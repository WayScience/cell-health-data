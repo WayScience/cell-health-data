{
 "cells": [
  {
   "cell_type": "markdown",
   "metadata": {},
   "source": [
    "### Import Libraries\n"
   ]
  },
  {
   "cell_type": "code",
   "execution_count": 1,
   "metadata": {},
   "outputs": [],
   "source": [
    "import pathlib\n",
    "import joblib\n",
    "import importlib\n",
    "\n",
    "import pandas as pd\n",
    "import numpy as np\n",
    "from sklearn.preprocessing import StandardScaler\n",
    "from pycytominer.cyto_utils import DeepProfiler_processing\n",
    "\n",
    "normalization_utils = importlib.import_module(\"normalization-utils\")"
   ]
  },
  {
   "cell_type": "markdown",
   "metadata": {},
   "source": [
    "### Set Load/Save Paths\n"
   ]
  },
  {
   "cell_type": "code",
   "execution_count": 2,
   "metadata": {},
   "outputs": [],
   "source": [
    "# paths to load merged features,index, and annotations from\n",
    "merged_features_save_path = pathlib.Path(\n",
    "    \"/media/roshankern/63af2010-c376-459e-a56e-576b170133b6/data/cell-health-nuc-merged/\"\n",
    ")\n",
    "dp_index_path = pathlib.Path(\n",
    "    \"/media/roshankern/63af2010-c376-459e-a56e-576b170133b6/data/cell-health-nuc-DP/inputs/metadata/index.csv\"\n",
    ")\n",
    "annotations_path = pathlib.Path(\n",
    "    \"../0.image-download/manifest/idr0080-screenA-annotation.csv\"\n",
    ")\n",
    "\n",
    "# path to save normalized merged features to\n",
    "normalized_merged_features_save_path = pathlib.Path(\n",
    "    \"/media/roshankern/63af2010-c376-459e-a56e-576b170133b6/data/cell-health-nuc-merged-normalized/\"\n",
    ")\n",
    "normalized_merged_features_save_path.mkdir(parents=True, exist_ok=True)\n",
    "scaler_save_dir = pathlib.Path(\"normalization-scalers/\")\n",
    "scaler_save_dir.mkdir(parents=True, exist_ok=True)"
   ]
  },
  {
   "cell_type": "markdown",
   "metadata": {},
   "source": [
    "### Normalize merged single-cell data\n"
   ]
  },
  {
   "cell_type": "code",
   "execution_count": 3,
   "metadata": {},
   "outputs": [
    {
     "name": "stdout",
     "output_type": "stream",
     "text": [
      "Normalizing plate SQ00014617...\n",
      "Loading single-cell data...\n"
     ]
    }
   ],
   "source": [
    "# iterate through each merged plate, find normalization scaler from negative control cells, and apply this scaler to all cells\n",
    "for merged_single_cell_plate_path in merged_features_save_path.iterdir():\n",
    "    # get only plate name from merged features file name\n",
    "    plate = merged_single_cell_plate_path.name.split(\"-\")[0]\n",
    "    print(f\"Normalizing plate {plate}...\")\n",
    "\n",
    "    # load in one row to create datatypes dictionary for faster loading\n",
    "    first_row_data = pd.read_csv(\n",
    "        merged_single_cell_plate_path, compression=\"gzip\", nrows=1\n",
    "    )\n",
    "    metadata_cols = [col for col in first_row_data.columns if \"P__\" not in col]\n",
    "    feature_cols = [col for col in first_row_data.columns if \"P__\" in col]\n",
    "\n",
    "    # specify datatypes for metadata/feature columns\n",
    "    metadata_dtypes = {metadata_col: str for metadata_col in metadata_cols}\n",
    "    feature_dtypes = {feature_col: np.float32 for feature_col in feature_cols}\n",
    "    # combine both dictionaries\n",
    "    plate_dtypes = {**metadata_dtypes, **feature_dtypes}\n",
    "\n",
    "    # load plate single-cell data\n",
    "    print(f\"Loading single-cell data...\")\n",
    "    plate_merged_single_cells = pd.read_csv(\n",
    "        merged_single_cell_plate_path,\n",
    "        compression=\"gzip\",\n",
    "        dtype=plate_dtypes,\n",
    "        low_memory=True,\n",
    "    )\n",
    "\n",
    "    # create per-plate normalization scaler from the normalization population\n",
    "    print(f\"Deriving normalization scaler...\")\n",
    "    plate_scaler = normalization_utils.get_normalization_scaler(\n",
    "        plate_merged_single_cells\n",
    "    )\n",
    "    # save normalization scaler\n",
    "    scaler_save_path = pathlib.Path(\n",
    "        f\"{scaler_save_dir}/{plate}-merged-normalization-scaler.joblib\"\n",
    "    )\n",
    "    joblib.dump(plate_scaler, scaler_save_path)\n",
    "\n",
    "    # apply scaler to all single cell feature data\n",
    "    print(f\"Applying normalization scaler...\")\n",
    "    # get normalized feature data\n",
    "    feature_cols = [\n",
    "        col for col in plate_merged_single_cells.columns.to_list() if \"P__\" in col\n",
    "    ]\n",
    "    features = plate_merged_single_cells[feature_cols].values\n",
    "    features = plate_scaler.transform(features)\n",
    "    features = pd.DataFrame(features, columns=feature_cols)\n",
    "    # get metadata for all single cells\n",
    "    metadata_cols = [\n",
    "        col for col in plate_merged_single_cells.columns.to_list() if \"P__\" not in col\n",
    "    ]\n",
    "    metadata = plate_merged_single_cells[metadata_cols]\n",
    "\n",
    "    # combine metadata and normalized features for all single cells (replace other single cell dataframe to not keep two dfs in memory)\n",
    "    plate_merged_single_cells = pd.concat([metadata, features], axis=1)\n",
    "\n",
    "    # compress and save merged single-cell data\n",
    "    print(f\"Saving normalized features...\")\n",
    "    normalized_merged_plate_single_cells_save_path = pathlib.Path(\n",
    "        f\"{normalized_merged_features_save_path}/{plate}-normalized-merged-single-cell.csv.gz\"\n",
    "    )\n",
    "    plate_merged_single_cells.to_csv(\n",
    "        normalized_merged_plate_single_cells_save_path, compression=\"gzip\", index=False\n",
    "    )"
   ]
  }
 ],
 "metadata": {
  "kernelspec": {
   "display_name": "Python 3.8.13 ('3.preprocess-features-cell-health')",
   "language": "python",
   "name": "python3"
  },
  "language_info": {
   "codemirror_mode": {
    "name": "ipython",
    "version": 3
   },
   "file_extension": ".py",
   "mimetype": "text/x-python",
   "name": "python",
   "nbconvert_exporter": "python",
   "pygments_lexer": "ipython3",
   "version": "3.8.13"
  },
  "orig_nbformat": 4,
  "vscode": {
   "interpreter": {
    "hash": "ea737ffdd6ff37fb37dc042ef9371ec668016fc55f52895396989bbd754ea958"
   }
  }
 },
 "nbformat": 4,
 "nbformat_minor": 2
}
