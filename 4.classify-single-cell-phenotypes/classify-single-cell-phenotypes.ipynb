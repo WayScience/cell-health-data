{
 "cells": [
  {
   "cell_type": "markdown",
   "metadata": {},
   "source": [
    "# Classify Cell Health Nuclei Features\n",
    "\n",
    "### Import libraries"
   ]
  },
  {
   "cell_type": "code",
   "execution_count": 1,
   "metadata": {},
   "outputs": [],
   "source": [
    "import pathlib\n",
    "import urllib.request\n",
    "import joblib\n",
    "\n",
    "import importlib\n",
    "classification_utils = importlib.import_module(\"classification-utils\")"
   ]
  },
  {
   "cell_type": "markdown",
   "metadata": {},
   "source": [
    "### Download/load `phenotypic_profiling` models"
   ]
  },
  {
   "cell_type": "code",
   "execution_count": 2,
   "metadata": {},
   "outputs": [
    {
     "name": "stderr",
     "output_type": "stream",
     "text": [
      "/usr/lib/python3/dist-packages/sklearn/base.py:329: UserWarning: Trying to unpickle estimator LogisticRegression from version 1.1.1 when using version 0.23.2. This might lead to breaking code or invalid results. Use at your own risk.\n",
      "  warnings.warn(\n"
     ]
    }
   ],
   "source": [
    "gh_hash = \"44e2741058c4d38edc137dc2caf5ea1f94b02410\"\n",
    "final_model_file_url = f\"https://raw.github.com/WayScience/phenotypic_profiling_model/{gh_hash}/2.train_model/models/log_reg_model.joblib\"\n",
    "shuffled_baseline_file_url = f\"https://raw.github.com/WayScience/phenotypic_profiling_model/{gh_hash}/2.train_model/models/shuffled_baseline_log_reg_model.joblib\"\n",
    "\n",
    "models_path = pathlib.Path(\"phenotypic_profiling_models/\")\n",
    "models_path.mkdir(exist_ok=True, parents=True)\n",
    "\n",
    "log_reg_model_path = pathlib.Path(f\"{models_path}/log_reg_model.joblib\")\n",
    "urllib.request.urlretrieve(final_model_file_url, log_reg_model_path)\n",
    "log_reg_model = joblib.load(log_reg_model_path)\n",
    "\n",
    "shuffled_baseline_model_path = pathlib.Path(f\"{models_path}/shuffled_baseline_log_reg_model.joblib\")\n",
    "urllib.request.urlretrieve(shuffled_baseline_file_url, shuffled_baseline_model_path)\n",
    "shuffled_baseline_model = joblib.load(shuffled_baseline_model_path)"
   ]
  },
  {
   "cell_type": "markdown",
   "metadata": {},
   "source": [
    "### Define hard drive path and classifications output path"
   ]
  },
  {
   "cell_type": "code",
   "execution_count": 3,
   "metadata": {},
   "outputs": [],
   "source": [
    "normalized_plates_path = pathlib.Path(\"/media/roshankern/63af2010-c376-459e-a56e-576b170133b6/data/cell-health-nuc-per-plate-normalized/\")\n",
    "\n",
    "classifications_save_path = pathlib.Path(\"plate_classifications/\")\n",
    "classifications_save_path.mkdir(exist_ok=True, parents=True)"
   ]
  },
  {
   "cell_type": "markdown",
   "metadata": {},
   "source": [
    "### Derive and save phenotypic class probabilities"
   ]
  },
  {
   "cell_type": "code",
   "execution_count": 4,
   "metadata": {},
   "outputs": [
    {
     "name": "stdout",
     "output_type": "stream",
     "text": [
      "Classifying feature data for SQ00014611_normalized_single_cell.csv.gz...\n",
      "Classifying feature data for SQ00014617_normalized_single_cell.csv.gz...\n",
      "Classifying feature data for SQ00014613_normalized_single_cell.csv.gz...\n",
      "Classifying feature data for SQ00014612_normalized_single_cell.csv.gz...\n",
      "Classifying feature data for SQ00014618_normalized_single_cell.csv.gz...\n",
      "Classifying feature data for SQ00014610_normalized_single_cell.csv.gz...\n",
      "Classifying feature data for SQ00014614_normalized_single_cell.csv.gz...\n",
      "Classifying feature data for SQ00014616_normalized_single_cell.csv.gz...\n",
      "Classifying feature data for SQ00014615_normalized_single_cell.csv.gz...\n",
      "Classifying feature data for SQ00014611_normalized_single_cell.csv.gz...\n",
      "Classifying feature data for SQ00014617_normalized_single_cell.csv.gz...\n",
      "Classifying feature data for SQ00014613_normalized_single_cell.csv.gz...\n",
      "Classifying feature data for SQ00014612_normalized_single_cell.csv.gz...\n",
      "Classifying feature data for SQ00014618_normalized_single_cell.csv.gz...\n",
      "Classifying feature data for SQ00014610_normalized_single_cell.csv.gz...\n",
      "Classifying feature data for SQ00014614_normalized_single_cell.csv.gz...\n",
      "Classifying feature data for SQ00014616_normalized_single_cell.csv.gz...\n",
      "Classifying feature data for SQ00014615_normalized_single_cell.csv.gz...\n"
     ]
    }
   ],
   "source": [
    "# save final model classifications\n",
    "final_model_classifications_save_path = pathlib.Path(f\"{classifications_save_path}/final_model/\")\n",
    "classification_utils.save_feature_classifications(log_reg_model, normalized_plates_path, final_model_classifications_save_path)\n",
    "\n",
    "# save shuffled baseline model classifications\n",
    "shuffled_baseline_classifications_save_path = pathlib.Path(f\"{classifications_save_path}/shuffled_baseline_model/\")\n",
    "classification_utils.save_feature_classifications(shuffled_baseline_model, normalized_plates_path, shuffled_baseline_classifications_save_path)"
   ]
  }
 ],
 "metadata": {
  "kernelspec": {
   "display_name": "Python 3.8.13 ('3.preprocess-features-cell-health')",
   "language": "python",
   "name": "python3"
  },
  "language_info": {
   "codemirror_mode": {
    "name": "ipython",
    "version": 3
   },
   "file_extension": ".py",
   "mimetype": "text/x-python",
   "name": "python",
   "nbconvert_exporter": "python",
   "pygments_lexer": "ipython3",
   "version": "3.8.13"
  },
  "orig_nbformat": 4,
  "vscode": {
   "interpreter": {
    "hash": "ea737ffdd6ff37fb37dc042ef9371ec668016fc55f52895396989bbd754ea958"
   }
  }
 },
 "nbformat": 4,
 "nbformat_minor": 2
}
