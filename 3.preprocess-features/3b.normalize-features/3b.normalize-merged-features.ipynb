{
 "cells": [
  {
   "cell_type": "markdown",
   "metadata": {},
   "source": [
    "### Import Libraries"
   ]
  },
  {
   "cell_type": "code",
   "execution_count": 3,
   "metadata": {},
   "outputs": [],
   "source": [
    "import pathlib\n",
    "import joblib\n",
    "import importlib\n",
    "\n",
    "import pandas as pd\n",
    "import numpy as np\n",
    "from sklearn.preprocessing import StandardScaler\n",
    "from pycytominer.cyto_utils import DeepProfiler_processing\n"
   ]
  },
  {
   "cell_type": "markdown",
   "metadata": {},
   "source": [
    "### Set Load/Save Paths"
   ]
  },
  {
   "cell_type": "code",
   "execution_count": 4,
   "metadata": {},
   "outputs": [],
   "source": [
    "# paths to load merged features,index, and annotations from\n",
    "merged_features_save_path = pathlib.Path(\n",
    "    \"/media/roshankern/63af2010-c376-459e-a56e-576b170133b6/data/cell-health-nuc-merged/\"\n",
    ")\n",
    "dp_index_path = pathlib.Path(\n",
    "    \"/media/roshankern/63af2010-c376-459e-a56e-576b170133b6/data/cell-health-nuc-DP/inputs/metadata/index.csv\"\n",
    ")\n",
    "annotations_path = pathlib.Path(\"../0.image-download/manifest/idr0080-screenA-annotation.csv\")\n",
    "\n",
    "# path to save normalized merged features to\n",
    "normalized_merged_features_save_path = pathlib.Path(\n",
    "    \"/media/roshankern/63af2010-c376-459e-a56e-576b170133b6/data/cell-health-nuc-merged-normalized/\"\n",
    ")\n",
    "normalized_merged_features_save_path.mkdir(parents=True, exist_ok=True)\n",
    "scaler_save_dir = pathlib.Path(\"normalization-scalers/\")\n",
    "scaler_save_dir.mkdir(parents=True, exist_ok=True)"
   ]
  },
  {
   "cell_type": "markdown",
   "metadata": {},
   "source": [
    "### Normalize merged single-cell data"
   ]
  },
  {
   "cell_type": "code",
   "execution_count": 5,
   "metadata": {},
   "outputs": [
    {
     "name": "stdout",
     "output_type": "stream",
     "text": [
      "Normalizing plate SQ00014617...\n",
      "Loading single-cell data...\n"
     ]
    }
   ],
   "source": [
    "for merged_single_cell_plate_path in merged_features_save_path.iterdir():\n",
    "    # get only plate name from merged features file name\n",
    "    plate = merged_single_cell_plate_path.name.split(\"-\")[0]\n",
    "    print(f\"Normalizing plate {plate}...\")\n",
    "    \n",
    "    # REMOVE LATER\n",
    "    normalized_merged_plate_single_cells_save_path = pathlib.Path(f\"{normalized_merged_features_save_path}/{plate}-normalized-merged-single-cell.csv\")\n",
    "    if normalized_merged_plate_single_cells_save_path.is_file():\n",
    "        continue\n",
    "    \n",
    "    # load plate single-cell data\n",
    "    print(f\"Loading single-cell data...\")\n",
    "    #plate_merged_single_cells = pd.read_csv(merged_single_cell_plate_path, compression=\"gzip\")\n",
    "    # load uncompressed version REMOVE LATER AND USE ABOVE\n",
    "    plate_merged_single_cells = pd.read_csv(merged_single_cell_plate_path)\n",
    "    \n",
    "    # create per-plate normalization scaler from the normalization population\n",
    "    print(f\"Deriving normalization scaler...\")\n",
    "    # find all cells that have had no reagent applied\n",
    "    negative_control_single_cells = plate_merged_single_cells.loc[plate_merged_single_cells['Metadata_Reagent'] == \"no reagent\"]\n",
    "    # get features for these negative control cells\n",
    "    feature_cols = [col for col in negative_control_single_cells.columns.to_list() if \"P__\" in col]\n",
    "    negative_control_feature_data = negative_control_single_cells[feature_cols].values\n",
    "    # fit normalization scaler\n",
    "    plate_scaler = StandardScaler()\n",
    "    plate_scaler.fit(negative_control_feature_data)\n",
    "    # save normalization scaler\n",
    "    scaler_save_path = pathlib.Path(f\"{scaler_save_dir}/{plate}-merged-normalization-scaler.joblib\")\n",
    "    joblib.dump(plate_scaler,scaler_save_path)\n",
    "    \n",
    "    # apply scaler to all single cell feature data\n",
    "    print(f\"Applying normalization scaler...\")\n",
    "    # get normalized feature data\n",
    "    features = plate_merged_single_cells[feature_cols].values\n",
    "    features = plate_scaler.transform(features)\n",
    "    features = pd.DataFrame(features, columns=feature_cols)\n",
    "    # get metadata for all single cells\n",
    "    metadata_cols = [col for col in plate_merged_single_cells.columns.to_list() if \"P__\" not in col]\n",
    "    metadata = plate_merged_single_cells[metadata_cols]\n",
    "    \n",
    "    # combine metadata and normalized features for all single cells (replace other single cell dataframe to not keep two dfs in memory)\n",
    "    plate_merged_single_cells = pd.concat([metadata, features], axis=1)\n",
    "    \n",
    "    # compress and save merged single-cell data\n",
    "    # print(f\"Saving normalized features...\")\n",
    "    # normalized_merged_plate_single_cells_save_path = pathlib.Path(f\"{normalized_merged_features_save_path}/{plate}-normalized-merged-single-cell.csv.gz\")\n",
    "    # plate_merged_single_cells.to_csv(normalized_merged_plate_single_cells_save_path, compression=\"gzip\", index=False)\n",
    "    \n",
    "    # save merged single-cell data REMOVE LATER AND USED COMPRESSED VERSION ABOVE\n",
    "    print(f\"Saving normalized features...\")\n",
    "    normalized_merged_plate_single_cells_save_path = pathlib.Path(f\"{normalized_merged_features_save_path}/{plate}-normalized-merged-single-cell.csv\")\n",
    "    plate_merged_single_cells.to_csv(normalized_merged_plate_single_cells_save_path, index=False)\n",
    "    \n",
    "\n",
    "plate_merged_single_cells"
   ]
  }
 ],
 "metadata": {
  "kernelspec": {
   "display_name": "Python 3.8.13 ('3.preprocess-features-cell-health')",
   "language": "python",
   "name": "python3"
  },
  "language_info": {
   "codemirror_mode": {
    "name": "ipython",
    "version": 3
   },
   "file_extension": ".py",
   "mimetype": "text/x-python",
   "name": "python",
   "nbconvert_exporter": "python",
   "pygments_lexer": "ipython3",
   "version": "3.8.13"
  },
  "orig_nbformat": 4,
  "vscode": {
   "interpreter": {
    "hash": "ea737ffdd6ff37fb37dc042ef9371ec668016fc55f52895396989bbd754ea958"
   }
  }
 },
 "nbformat": 4,
 "nbformat_minor": 2
}
