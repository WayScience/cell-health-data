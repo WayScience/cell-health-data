{
 "cells": [
  {
   "cell_type": "markdown",
   "metadata": {},
   "source": [
    "### Import Libraries"
   ]
  },
  {
   "cell_type": "code",
   "execution_count": 2,
   "metadata": {},
   "outputs": [],
   "source": [
    "import pathlib\n",
    "import joblib\n",
    "import importlib\n",
    "\n",
    "from pycytominer.cyto_utils import DeepProfiler_processing\n",
    "import pandas as pd\n",
    "import numpy as np\n",
    "\n",
    "normalize_utils = importlib.import_module(\"normalize-utils\")"
   ]
  },
  {
   "cell_type": "markdown",
   "metadata": {},
   "source": [
    "### Set Load/Save Paths"
   ]
  },
  {
   "cell_type": "code",
   "execution_count": 3,
   "metadata": {},
   "outputs": [],
   "source": [
    "# paths to load merged features,index, and annotations from\n",
    "merged_features_save_path = pathlib.Path(\n",
    "    \"/media/roshankern/63af2010-c376-459e-a56e-576b170133b6/data/cell-health-nuc-merged/\"\n",
    ")\n",
    "dp_index_path = pathlib.Path(\n",
    "    \"/media/roshankern/63af2010-c376-459e-a56e-576b170133b6/data/cell-health-nuc-DP/inputs/metadata/index.csv\"\n",
    ")\n",
    "annotations_path = pathlib.Path(\"../0.image-download/manifest/idr0080-screenA-annotation.csv\")\n",
    "\n",
    "# path to save normalized merged features to\n",
    "normalized_merged_features_save_path = pathlib.Path(\n",
    "    \"/media/roshankern/63af2010-c376-459e-a56e-576b170133b6/data/cell-health-nuc-merged-normalized/\"\n",
    ")\n",
    "normalized_merged_features_save_path.mkdir(parents=True, exist_ok=True)"
   ]
  },
  {
   "cell_type": "code",
   "execution_count": 5,
   "metadata": {},
   "outputs": [],
   "source": [
    "for merged_single_cell_plate_path in merged_features_save_path.iterdir():\n",
    "    print(merged_single_cell_plate_path)\n",
    "    print(f\"Normalizing features for {merged_single_cell_plate_path.name} ...\")\n",
    "    \n",
    "    # get only plate name from merged features file name\n",
    "    plate = merged_single_cell_plate_path.name.split(\"_\")[0]\n",
    "    \n",
    "    # load plate single-cell data\n",
    "    print(f\"Loading single-cell data for plate {plate}...\")\n",
    "    plate_merged_single_cells = pd.read_csv(merged_single_cell_plate_path, compression=\"gzip\")\n",
    "    \n",
    "    # create per-plate normalization scaler from the normalization population\n",
    "    print(f\"Deriving scaler for plate {plate}...\")\n",
    "    "
   ]
  }
 ],
 "metadata": {
  "kernelspec": {
   "display_name": "Python 3.8.13 ('3.preprocess-features-cell-health')",
   "language": "python",
   "name": "python3"
  },
  "language_info": {
   "codemirror_mode": {
    "name": "ipython",
    "version": 3
   },
   "file_extension": ".py",
   "mimetype": "text/x-python",
   "name": "python",
   "nbconvert_exporter": "python",
   "pygments_lexer": "ipython3",
   "version": "3.8.13"
  },
  "orig_nbformat": 4,
  "vscode": {
   "interpreter": {
    "hash": "ea737ffdd6ff37fb37dc042ef9371ec668016fc55f52895396989bbd754ea958"
   }
  }
 },
 "nbformat": 4,
 "nbformat_minor": 2
}
