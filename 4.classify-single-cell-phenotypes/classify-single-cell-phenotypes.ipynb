{
 "cells": [
  {
   "cell_type": "markdown",
   "metadata": {},
   "source": [
    "# Classify Cell Health Nuclei Features\n",
    "\n",
    "### Import libraries\n"
   ]
  },
  {
   "cell_type": "code",
   "execution_count": 1,
   "metadata": {},
   "outputs": [],
   "source": [
    "import pathlib\n",
    "import urllib.request\n",
    "import joblib\n",
    "import importlib\n",
    "\n",
    "import pandas as pd\n",
    "import numpy as np\n",
    "\n",
    "classification_utils = importlib.import_module(\"classification-utils\")"
   ]
  },
  {
   "cell_type": "markdown",
   "metadata": {},
   "source": [
    "### Define hard drive path and classifications output path\n"
   ]
  },
  {
   "cell_type": "code",
   "execution_count": 2,
   "metadata": {},
   "outputs": [],
   "source": [
    "# external paths to normalized data and classifications\n",
    "normalized_plates_path = pathlib.Path(\n",
    "    \"/media/roshankern/63af2010-c376-459e-a56e-576b170133b6/data/cell-health-nuc-merged-normalized\"\n",
    ")\n",
    "\n",
    "classifications_save_path = pathlib.Path(\n",
    "    \"/media/roshankern/63af2010-c376-459e-a56e-576b170133b6/data/cell-health-plate-classifications\"\n",
    ")\n",
    "classifications_save_path.mkdir(exist_ok=True, parents=True)\n",
    "\n",
    "# path to multi-class and single-class models\n",
    "multi_class_models_dir = pathlib.Path(\n",
    "    \"phenotypic_profiling_model/2.train_model/models/multi_class_models\"\n",
    ")\n",
    "single_class_models_dir = pathlib.Path(\n",
    "    \"phenotypic_profiling_model/2.train_model/models/single_class_models\"\n",
    ")"
   ]
  },
  {
   "cell_type": "markdown",
   "metadata": {},
   "source": [
    "### Derive and save phenotypic class probabilities\n"
   ]
  },
  {
   "cell_type": "code",
   "execution_count": 3,
   "metadata": {},
   "outputs": [
    {
     "name": "stdout",
     "output_type": "stream",
     "text": [
      "Getting phenotypic_class_probabilities for plate SQ00014610...\n",
      "Loading plate feature data...\n",
      "Loading plate metadata...\n",
      "Getting multi-class model classifications...\n",
      "Getting single-class model classifications...\n",
      "Getting phenotypic_class_probabilities for plate SQ00014615...\n",
      "Loading plate feature data...\n",
      "Loading plate metadata...\n",
      "Getting multi-class model classifications...\n",
      "Getting single-class model classifications...\n",
      "Getting phenotypic_class_probabilities for plate SQ00014612...\n",
      "Loading plate feature data...\n",
      "Loading plate metadata...\n",
      "Getting multi-class model classifications...\n",
      "Getting single-class model classifications...\n",
      "Getting phenotypic_class_probabilities for plate SQ00014618...\n",
      "Loading plate feature data...\n",
      "Loading plate metadata...\n",
      "Getting multi-class model classifications...\n",
      "Getting single-class model classifications...\n",
      "Getting phenotypic_class_probabilities for plate SQ00014613...\n",
      "Loading plate feature data...\n",
      "Loading plate metadata...\n",
      "Getting multi-class model classifications...\n",
      "Getting single-class model classifications...\n",
      "Getting phenotypic_class_probabilities for plate SQ00014616...\n",
      "Loading plate feature data...\n",
      "Loading plate metadata...\n",
      "Getting multi-class model classifications...\n",
      "Getting single-class model classifications...\n",
      "Getting phenotypic_class_probabilities for plate SQ00014617...\n",
      "Loading plate feature data...\n",
      "Loading plate metadata...\n",
      "Getting multi-class model classifications...\n",
      "Getting single-class model classifications...\n",
      "Getting phenotypic_class_probabilities for plate SQ00014614...\n",
      "Loading plate feature data...\n",
      "Loading plate metadata...\n",
      "Getting multi-class model classifications...\n",
      "Getting single-class model classifications...\n",
      "Getting phenotypic_class_probabilities for plate SQ00014611...\n",
      "Loading plate feature data...\n",
      "Loading plate metadata...\n",
      "Getting multi-class model classifications...\n",
      "Getting single-class model classifications...\n"
     ]
    }
   ],
   "source": [
    "# iterate through plates so each plate data only needs to be loaded once\n",
    "for normalized_plate_path in normalized_plates_path.iterdir():\n",
    "\n",
    "    # get plate name from normalized data path\n",
    "    plate = normalized_plate_path.name.split(\"-\")[0]\n",
    "    print(f\"Getting phenotypic_class_probabilities for plate {plate}...\")\n",
    "\n",
    "    # determine what type columns are\n",
    "    all_cols = pd.read_csv(normalized_plate_path, nrows=1).columns.to_list()\n",
    "    feature_cols = [col for col in all_cols if \"P__\" in col]\n",
    "    metadata_cols = [col for col in all_cols if \"P__\" not in col]\n",
    "\n",
    "    print(\"Loading plate feature data...\")\n",
    "    # load features\n",
    "    col_types = {col: np.float32 for col in feature_cols}\n",
    "    plate_features = pd.read_csv(\n",
    "        normalized_plate_path, low_memory=True, usecols=feature_cols\n",
    "    )\n",
    "    # load metadata\n",
    "    print(\"Loading plate metadata...\")\n",
    "    col_types = {col: str for col in metadata_cols}\n",
    "    plate_metadata = pd.read_csv(\n",
    "        normalized_plate_path, low_memory=True, usecols=metadata_cols\n",
    "    )\n",
    "\n",
    "    print(\"Getting multi-class model classifications...\")\n",
    "    for model_path in sorted(multi_class_models_dir.iterdir()):\n",
    "\n",
    "        # load current model\n",
    "        model = joblib.load(model_path)\n",
    "\n",
    "        # get information about the current model\n",
    "        model_type = model_path.name.split(\"__\")[0]\n",
    "        feature_type = model_path.name.split(\"__\")[1].replace(\".joblib\", \"\")\n",
    "\n",
    "        # get phenotypic class probabilities for the given plate features\n",
    "        plate_probas = classification_utils.get_probas_dataframe(\n",
    "            plate_features, model, feature_type\n",
    "        )\n",
    "\n",
    "        # save plate probas with metadata\n",
    "        model_plate_probas_save_path = pathlib.Path(\n",
    "            f\"{classifications_save_path}/multi_class_models/{model_type}__{feature_type}/{plate}__cell_classifications.csv.gz\"\n",
    "        )\n",
    "        model_plate_probas_save_path.parent.mkdir(exist_ok=True, parents=True)\n",
    "        pd.concat([plate_metadata, plate_probas], axis=1).to_csv(\n",
    "            model_plate_probas_save_path, compression=\"gzip\"\n",
    "        )\n",
    "\n",
    "    print(\"Getting single-class model classifications...\")\n",
    "    for phenotypic_class_models_path in sorted(single_class_models_dir.iterdir()):\n",
    "        for model_path in sorted(phenotypic_class_models_path.iterdir()):\n",
    "\n",
    "            # load current model\n",
    "            model = joblib.load(model_path)\n",
    "\n",
    "            # get information about the current model\n",
    "            phenotypic_class = phenotypic_class_models_path.name.split(\"_\")[0]\n",
    "            model_type = model_path.name.split(\"__\")[0]\n",
    "            feature_type = model_path.name.split(\"__\")[1].replace(\".joblib\", \"\")\n",
    "\n",
    "            # get phenotypic class probabilities for the given plate features\n",
    "            plate_probas = classification_utils.get_probas_dataframe(\n",
    "                plate_features, model, feature_type\n",
    "            )\n",
    "\n",
    "            # save plate probas with metadata\n",
    "            model_plate_probas_save_path = pathlib.Path(\n",
    "                f\"{classifications_save_path}/single_class_models/{phenotypic_class}_models/{model_type}__{feature_type}/{plate}__cell_classifications.csv.gz\"\n",
    "            )\n",
    "            model_plate_probas_save_path.parent.mkdir(exist_ok=True, parents=True)\n",
    "            pd.concat([plate_metadata, plate_probas], axis=1).to_csv(\n",
    "                model_plate_probas_save_path, compression=\"gzip\", index=False\n",
    "            )\n"
   ]
  }
 ],
 "metadata": {
  "kernelspec": {
   "display_name": "Python 3.8.13 ('4.classify-single-cell-phenotypes')",
   "language": "python",
   "name": "python3"
  },
  "language_info": {
   "codemirror_mode": {
    "name": "ipython",
    "version": 3
   },
   "file_extension": ".py",
   "mimetype": "text/x-python",
   "name": "python",
   "nbconvert_exporter": "python",
   "pygments_lexer": "ipython3",
   "version": "3.8.13"
  },
  "orig_nbformat": 4,
  "vscode": {
   "interpreter": {
    "hash": "16c953e1968b80b7d54ddd719dbb502087b712db0c3b0369e9d0fea5243b3e3a"
   }
  }
 },
 "nbformat": 4,
 "nbformat_minor": 2
}
