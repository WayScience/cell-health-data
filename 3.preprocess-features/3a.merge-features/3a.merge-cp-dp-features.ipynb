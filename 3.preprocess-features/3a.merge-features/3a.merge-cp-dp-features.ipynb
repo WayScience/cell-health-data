{
 "cells": [
  {
   "cell_type": "markdown",
   "metadata": {},
   "source": [
    "### Import Libraries"
   ]
  },
  {
   "cell_type": "code",
   "execution_count": null,
   "metadata": {},
   "outputs": [],
   "source": [
    "import pathlib\n",
    "import math\n",
    "import uuid\n",
    "import importlib\n",
    "import itertools\n",
    "\n",
    "import pandas as pd\n",
    "from pycytominer.cyto_utils import DeepProfiler_processing\n",
    "\n",
    "merge_utils = importlib.import_module(\"merge-utils\")"
   ]
  },
  {
   "cell_type": "markdown",
   "metadata": {},
   "source": [
    "### Merge Features"
   ]
  },
  {
   "cell_type": "code",
   "execution_count": null,
   "metadata": {},
   "outputs": [],
   "source": [
    "cp_features_save_path = pathlib.Path(\n",
    "    \"/media/roshankern/63af2010-c376-459e-a56e-576b170133b6/data/cell-health-nuc-CP/\"\n",
    ")\n",
    "\n",
    "dp_features_save_path = pathlib.Path(\n",
    "    \"/media/roshankern/63af2010-c376-459e-a56e-576b170133b6/data/cell-health-nuc-DP/outputs/efn_pretrained/features\"\n",
    ")\n",
    "dp_index_path = pathlib.Path(\n",
    "    \"/media/roshankern/63af2010-c376-459e-a56e-576b170133b6/data/cell-health-nuc-DP/inputs/metadata/index.csv\"\n",
    ")\n",
    "\n",
    "merged_features_save_path = pathlib.Path(\n",
    "    \"/media/roshankern/63af2010-c376-459e-a56e-576b170133b6/data/cell-health-nuc-merged/\"\n",
    ")\n",
    "merged_features_save_path.mkdir(exist_ok=True)\n",
    "\n",
    "for cp_output_path in cp_features_save_path.iterdir():\n",
    "    plate = cp_output_path.name\n",
    "    print(f\"Merging plate {plate} ...\")\n",
    "    \n",
    "    merged_plate_single_cells = []\n",
    "    merged_plate_single_cells_save_path = pathlib.Path(f\"{merged_features_save_path}/{plate}_merged_single_cell.csv.gz\")\n",
    "    \n",
    "    # load single cell dataframe for CP data\n",
    "    print(\"Loading CP features...\")\n",
    "    cp_plate_single_cells = merge_utils.load_cp_feature_data(cp_output_path, plate)\n",
    "    \n",
    "    # load single cell dataframe for DP data\n",
    "    print(\"Loading DP features...\")\n",
    "    deep_data = DeepProfiler_processing.DeepProfilerData(\n",
    "        dp_index_path, dp_features_save_path, filename_delimiter=\"/\"\n",
    "    )\n",
    "    # get dp index for plate we are interested in\n",
    "    deep_data.index_df = deep_data.index_df.loc[\n",
    "        deep_data.index_df[\"Metadata_Plate\"] == plate\n",
    "    ]\n",
    "    # convert site to int (instead of string beginning with 0) so DeepProfiler_processing can find output\n",
    "    deep_data.index_df[\"Metadata_Site\"] = pd.to_numeric(deep_data.index_df[\"Metadata_Site\"])\n",
    "    deep_single_cell = DeepProfiler_processing.SingleCellDeepProfiler(deep_data)\n",
    "    dp_plate_single_cells = deep_single_cell.get_single_cells(output=True)\n",
    "    \n",
    "    # iterate through each image in the plate (unique image for each plate, well, site combination)\n",
    "    wells = dp_plate_single_cells[\"Metadata_Well\"].unique()\n",
    "    sites = dp_plate_single_cells[\"Metadata_Site\"].unique()\n",
    "    \n",
    "    for well, site in itertools.product(wells, sites):\n",
    "        \n",
    "        cp_image_single_cells = cp_plate_single_cells.loc[\n",
    "                (cp_plate_single_cells[\"Metadata_Plate\"] == plate)\n",
    "                & (cp_plate_single_cells[\"Metadata_Well\"] == well)\n",
    "                & (cp_plate_single_cells[\"Metadata_Site\"] == site)\n",
    "            ]\n",
    "        dp_image_single_cells = dp_plate_single_cells.loc[\n",
    "            (dp_plate_single_cells[\"Metadata_Plate\"] == plate)\n",
    "            & (dp_plate_single_cells[\"Metadata_Well\"] == well)\n",
    "            & (dp_plate_single_cells[\"Metadata_Site\"] == site)\n",
    "        ]\n",
    "        \n",
    "        merged_image_data = merge_utils.merge_CP_DP_image_data(cp_image_single_cells, dp_image_single_cells)\n",
    "        merged_plate_single_cells.append(merged_image_data)\n",
    "    \n",
    "    merged_plate_single_cells = pd.concat(merged_plate_single_cells).reset_index(drop=True)\n",
    "    merged_plate_single_cells.to_csv(merged_plate_single_cells_save_path, compression=\"gzip\")\n"
   ]
  }
 ],
 "metadata": {
  "kernelspec": {
   "display_name": "Python 3.8.13 ('3.preprocess-features-cell-health')",
   "language": "python",
   "name": "python3"
  },
  "language_info": {
   "codemirror_mode": {
    "name": "ipython",
    "version": 3
   },
   "file_extension": ".py",
   "mimetype": "text/x-python",
   "name": "python",
   "nbconvert_exporter": "python",
   "pygments_lexer": "ipython3",
   "version": "3.8.13"
  },
  "orig_nbformat": 4,
  "vscode": {
   "interpreter": {
    "hash": "ea737ffdd6ff37fb37dc042ef9371ec668016fc55f52895396989bbd754ea958"
   }
  }
 },
 "nbformat": 4,
 "nbformat_minor": 2
}
