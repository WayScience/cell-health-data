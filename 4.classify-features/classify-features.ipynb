{
 "cells": [
  {
   "cell_type": "code",
   "execution_count": null,
   "metadata": {},
   "outputs": [],
   "source": [
    "import pandas as pd\n",
    "import pathlib\n",
    "import numpy as np\n",
    "import urllib.request\n",
    "import joblib\n",
    "\n",
    "import importlib\n",
    "classification_utils = importlib.import_module(\"classification-utils\")"
   ]
  },
  {
   "cell_type": "code",
   "execution_count": null,
   "metadata": {},
   "outputs": [],
   "source": [
    "hash = \"64cfc46ecd92f1956af199c81f8ecf4dc292718f\"\n",
    "file_url = f\"https://raw.github.com/WayScience/phenotypic_profiling_model/{hash}/2.train_model/models/log_reg_model.joblib\"\n",
    "log_reg_model_path = pathlib.Path(\"log_reg_model.joblib\")\n",
    "urllib.request.urlretrieve(file_url, log_reg_model_path)\n",
    "log_reg_model = joblib.load(log_reg_model_path)"
   ]
  },
  {
   "cell_type": "code",
   "execution_count": null,
   "metadata": {},
   "outputs": [],
   "source": [
    "normlized_plate_data = pathlib.Path(\"/media/roshankern/63af2010-c376-459e-a56e-576b170133b6/data/cell-health-nuc-per-plate-normalized/\")\n",
    "probas_save_dir_path = pathlib.Path(\"reagent_probas/\")\n",
    "probas_save_dir_path.mkdir(exist_ok=True, parents=True)\n",
    "\n",
    "for plate_load_path in normlized_plate_data.iterdir():\n",
    "    plate = plate_load_path.name.strip(\"_normalized_single_cell.csv.gz\")\n",
    "    reagent_save_path = pathlib.Path(f\"{probas_save_dir_path}/{plate}_reagent_median_phenotypic_proba.tsv\")\n",
    "    \n",
    "    # USES TOO MUCH MEMORY TO LOAD IN SOME PLATE DATA\n",
    "    classification_utils.get_reagent_probabilities(log_reg_model, plate_load_path)"
   ]
  }
 ],
 "metadata": {
  "kernelspec": {
   "display_name": "Python 3.10.4 64-bit",
   "language": "python",
   "name": "python3"
  },
  "language_info": {
   "codemirror_mode": {
    "name": "ipython",
    "version": 3
   },
   "file_extension": ".py",
   "mimetype": "text/x-python",
   "name": "python",
   "nbconvert_exporter": "python",
   "pygments_lexer": "ipython3",
   "version": "3.10.4"
  },
  "orig_nbformat": 4,
  "vscode": {
   "interpreter": {
    "hash": "916dbcbb3f70747c44a77c7bcd40155683ae19c65e1c03b4aa3499c5328201f1"
   }
  }
 },
 "nbformat": 4,
 "nbformat_minor": 2
}
