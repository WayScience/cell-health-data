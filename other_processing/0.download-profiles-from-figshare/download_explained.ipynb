{
 "cells": [
  {
   "cell_type": "markdown",
   "metadata": {},
   "source": [
    "# Module 0: Downloading Profiles from Figshare\n",
    "\n",
    "In this module, we display the step by step processing how the downloading of cell-heatlh datasets \n",
    "\n",
    "\n",
    "This notebook is split into three parts: \n",
    "- Imports: the required imports\n",
    "- Setup: Explains our methods and what variables are required to execute\n",
    "- Execution: Execution of downloading all files in parallel"
   ]
  },
  {
   "cell_type": "markdown",
   "metadata": {},
   "source": [
    "## Imports\n",
    "\n",
    "Below are the required imports in order to successfully to run this notebook."
   ]
  },
  {
   "cell_type": "code",
   "execution_count": 1,
   "metadata": {},
   "outputs": [],
   "source": [
    "from typing import Union\n",
    "from pathlib import Path\n",
    "import multiprocessing as mp\n",
    "import requests"
   ]
  },
  {
   "cell_type": "markdown",
   "metadata": {},
   "source": [
    "## Setup\n",
    "\n",
    "In this section, we are going to explain the required variables in order to execute our parallelized download of cell-health datasets. "
   ]
  },
  {
   "cell_type": "markdown",
   "metadata": {},
   "source": [
    "first we create a function that will handle all the downloading of sqlite files from figshare"
   ]
  },
  {
   "cell_type": "code",
   "execution_count": 2,
   "metadata": {},
   "outputs": [],
   "source": [
    "def download_sqlite_file(filename: Union[str, Path], url: str):\n",
    "    \"\"\"Downloads Single-Cell Cell painting profiles from Figshare data\n",
    "    repository\n",
    "\n",
    "    Parameters\n",
    "    ----------\n",
    "    filename : Union[str, Path]\n",
    "        Path to store downloaded profiles\n",
    "    url : str\n",
    "        Url that downloads specific profile data.\n",
    "\n",
    "    Returns\n",
    "    -------\n",
    "    None\n",
    "        All downloaded profiles will be stored in the `./data` directory\n",
    "    \"\"\"\n",
    "\n",
    "    print(\"Now downloading... {}\".format(filename))\n",
    "    with requests.get(url, stream=True) as sql_request:\n",
    "        sql_request.raise_for_status()\n",
    "        with open(filename, \"wb\") as sql_fh:\n",
    "            for chunk in sql_request.iter_content(chunk_size=786432000):\n",
    "                if chunk:\n",
    "                    assert isinstance(chunk, object)\n",
    "                    sql_fh.write(chunk)"
   ]
  },
  {
   "cell_type": "markdown",
   "metadata": {},
   "source": [
    "Next we create a dictionary that contains the name of the sqlite and the associated figshare unique identifier. \n",
    "\n",
    "Once we have our list, we also create a directory where all the downloaded sqlite files will be placed. "
   ]
  },
  {
   "cell_type": "code",
   "execution_count": 3,
   "metadata": {},
   "outputs": [],
   "source": [
    "file_info = {\n",
    "        # \"SQ00014610\": \"18028784\",\n",
    "        # \"SQ00014611\": \"18508583\",\n",
    "        # \"SQ00014612\": \"18505937\",\n",
    "        \"SQ00014613\": \"18506036\",\n",
    "        \"SQ00014614\": \"18031619\",\n",
    "        \"SQ00014615\": \"18506108\",\n",
    "        \"SQ00014616\": \"18506912\",\n",
    "        \"SQ00014617\": \"18508316\",\n",
    "        \"SQ00014618\": \"18508421\",\n",
    "    }\n",
    "\n",
    "# setting update directory to place downloaded files\n",
    "download_dir_obj = Path(\"../data\")\n",
    "download_dir_obj.mkdir(exist_ok=True)"
   ]
  },
  {
   "cell_type": "markdown",
   "metadata": {},
   "source": [
    "Since we are using multi-processing module to spawn multiple download calls from figshare, it is required to generate a nested list parameters for our `downloade_sqlite_file()` function. \n",
    "\n",
    "- The `func_params_list` contains the filename and the download url, which are the required positional parameters for `download_sqlite_file()` function.\n",
    "\n",
    "We need our parameters to be in a nested list due to our method utilizing the `.starmap()` method call in the `multiprocessing` module.\n",
    "\n",
    "This will be explained in the `Execution` section of this notebook\n",
    "\n",
    "**NOTE**: Files that already exists within the data folder will be skipped"
   ]
  },
  {
   "cell_type": "code",
   "execution_count": 4,
   "metadata": {},
   "outputs": [],
   "source": [
    "# collect all function inputs in a list\n",
    "func_params_list = []\n",
    "for plate in file_info:\n",
    "    figshare_id = file_info[plate]\n",
    "    filename = download_dir_obj / f\"{plate}.sqlite\"\n",
    "    if filename.is_file():\n",
    "        continue\n",
    "    url = f\"https://nih.figshare.com/ndownloader/files/{figshare_id}\"\n",
    "    func_params_list.append([filename, url])"
   ]
  },
  {
   "cell_type": "markdown",
   "metadata": {},
   "source": [
    "<bv>"
   ]
  },
  {
   "cell_type": "markdown",
   "metadata": {},
   "source": [
    "## Execution\n",
    "\n",
    "Now that we have our lists of parameters, we can now set out parallelized download by using the `.starmap()` method. \n",
    "\n",
    "First, let's explain why the nested parameter list in `func_param_list` is important for the `.starmap()` method call\n",
    "\n",
    "In order for a function to be parallelized, each function call requires to have a different set of parameters. \n",
    "\n",
    "The `.starmap()` unpacks the elements in the list and places them into the function. \n",
    "\n",
    "The `star` in `.starmap()` refers pythons ability to unpack positional arguments from array and use it in a function. This is also known as the `*args` positional argument \n",
    "\n",
    "code example:\n",
    "\n",
    "```python\n",
    "def sum_all(num1, num2, num3, num4)\n",
    "param_list = [1, 2, 3, 4]\n",
    "\n",
    "# using the star to unpack all parameters in a list\n",
    "sum_all(*param_list)\n",
    "\n",
    "# the code above is represents this:\n",
    "sum_all(1,2,3,4)\n",
    "```\n",
    "\n",
    "Now we know what the `star` does in the `starmap` now let talk about the `map` version. \n",
    "\n",
    "The `map` basically means you are mapping every single list of parameters to your function and calling it.\n",
    "\n",
    "Therefore, `.starmap()` maps all list of parameters to a function call independently and unpacks the list of parameters by using  `*` \n",
    "\n",
    "Each independent function call will be assigned to one cpu core in your machine. \n",
    "\n",
    "For this example, there are 9 files to download, hence creating 9 function calls that will be placed to each core in your machine. \n",
    "\n",
    "A more technical explanation of `.starmap()` can be found in the [documentation](https://docs.python.org/3/library/multiprocessing.html#module-multiprocessing.pool)\n"
   ]
  },
  {
   "cell_type": "code",
   "execution_count": null,
   "metadata": {},
   "outputs": [],
   "source": [
    "# initializing parallelization\n",
    "n_jobs = len(file_info)\n",
    "with mp.Pool(processes=n_jobs) as pool:\n",
    "    pool.starmap(download_sqlite_file, func_params_list)\n",
    "    pool.close()\n",
    "    pool.join()"
   ]
  },
  {
   "cell_type": "code",
   "execution_count": 6,
   "metadata": {},
   "outputs": [],
   "source": [
    "from pathlib import Path"
   ]
  },
  {
   "cell_type": "code",
   "execution_count": 11,
   "metadata": {},
   "outputs": [
    {
     "data": {
      "text/plain": [
       "'../0.download-profiles-from-figshare/data/*.sqite'"
      ]
     },
     "execution_count": 11,
     "metadata": {},
     "output_type": "execute_result"
    }
   ],
   "source": [
    "str(Path(\"../0.download-profiles-from-figshare/data/\") / \"*.sqite\")"
   ]
  },
  {
   "cell_type": "markdown",
   "metadata": {},
   "source": []
  }
 ],
 "metadata": {
  "kernelspec": {
   "display_name": "Python 3.10.4 ('sqlite_to_parquet')",
   "language": "python",
   "name": "python3"
  },
  "language_info": {
   "codemirror_mode": {
    "name": "ipython",
    "version": 3
   },
   "file_extension": ".py",
   "mimetype": "text/x-python",
   "name": "python",
   "nbconvert_exporter": "python",
   "pygments_lexer": "ipython3",
   "version": "3.10.4"
  },
  "orig_nbformat": 4,
  "vscode": {
   "interpreter": {
    "hash": "37090cdff08bd112e3db16f2d72a52ed5b9f2b492c0eece1a70fc7554d466c74"
   }
  }
 },
 "nbformat": 4,
 "nbformat_minor": 2
}
