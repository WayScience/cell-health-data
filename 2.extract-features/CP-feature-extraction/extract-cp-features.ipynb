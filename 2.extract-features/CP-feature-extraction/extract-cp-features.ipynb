{
 "cells": [
  {
   "cell_type": "markdown",
   "metadata": {},
   "source": [
    "### Import libraries\n"
   ]
  },
  {
   "cell_type": "code",
   "execution_count": 10,
   "metadata": {},
   "outputs": [],
   "source": [
    "import pathlib\n",
    "import subprocess\n",
    "from datetime import datetime"
   ]
  },
  {
   "cell_type": "markdown",
   "metadata": {},
   "source": [
    "### Extract CP features from each plate\n"
   ]
  },
  {
   "cell_type": "code",
   "execution_count": 11,
   "metadata": {},
   "outputs": [
    {
     "name": "stdout",
     "output_type": "stream",
     "text": [
      "Extracting CP features for plate SQ00014617...\n"
     ]
    }
   ],
   "source": [
    "# data paths need to be changed to reflect the location of nuclei and segmentation mask images and feature save path\n",
    "nuclei_images_load_path = pathlib.Path(\n",
    "    \"/media/roshankern/63af2010-c376-459e-a56e-576b170133b6/data/cell-health\"\n",
    ")\n",
    "all_data_load_path = pathlib.Path(\n",
    "    \"/media/roshankern/63af2010-c376-459e-a56e-576b170133b6/data/\"\n",
    ")\n",
    "features_save_path = pathlib.Path(\n",
    "    \"/media/roshankern/63af2010-c376-459e-a56e-576b170133b6/data/cell-health-nuc-CP/\"\n",
    ")\n",
    "\n",
    "# path to CellProfiler pipeline\n",
    "pipeline_path = pathlib.Path(\"process-cell-health.cppipe\")\n",
    "# iterate through plates in load path\n",
    "for plate_path in nuclei_images_load_path.iterdir():\n",
    "    print(f\"Extracting CP features for plate {plate_path.name}...\")\n",
    "\n",
    "    # features folder that extracted CP features will be saved to\n",
    "    features_folder_path = pathlib.Path(f\"{features_save_path}/{plate_path.name}\")\n",
    "    features_folder_path.mkdir(exist_ok=True, parents=True)\n",
    "\n",
    "    # file to log CP output\n",
    "    log_file_path = pathlib.Path(\n",
    "        f\"{features_save_path}/{plate_path.name}/CP_plate_run.log\"\n",
    "    )\n",
    "\n",
    "    # extract features for particular plate\n",
    "    with open(\n",
    "        log_file_path,\n",
    "        \"w\",\n",
    "    ) as cellprofiler_output_file:\n",
    "        start = datetime.now()\n",
    "        cellprofiler_output_file.write(f\"Start: {start}\")\n",
    "        \n",
    "        # run CellProfiler for a illumination correction pipeline\n",
    "        command_components = [\n",
    "            \"cellprofiler\",\n",
    "            \"-c\",\n",
    "            \"-r\",\n",
    "            \"-p\",\n",
    "            str(pipeline_path.absolute()),\n",
    "            \"-o\",\n",
    "            str(features_folder_path.absolute()),\n",
    "            \"-i\",\n",
    "            f\"{all_data_load_path.absolute()}\",\n",
    "            \"-g\",\n",
    "            f\"Metadata_Plate={plate_path.name}\",\n",
    "        ]\n",
    "        command = \" \".join(command_components)\n",
    "        subprocess.run(\n",
    "            command_components,\n",
    "            stdout=cellprofiler_output_file,\n",
    "            stderr=cellprofiler_output_file,\n",
    "            check=True,\n",
    "        )\n",
    "        print(\n",
    "            f\"The CellProfiler run has been completed for {plate_path.name}. Please check log file for any errors.\"\n",
    "        )\n",
    "        \n",
    "        end = datetime.now()\n",
    "        cellprofiler_output_file.write(f\"End: {end}\")\n",
    "        \n",
    "        duration = end-start\n",
    "        cellprofiler_output_file.write(f\"Duration: {duration}\")"
   ]
  }
 ],
 "metadata": {
  "kernelspec": {
   "display_name": "Python 3.8.13 ('2.cp-feature-extraction-cell-health')",
   "language": "python",
   "name": "python3"
  },
  "language_info": {
   "codemirror_mode": {
    "name": "ipython",
    "version": 3
   },
   "file_extension": ".py",
   "mimetype": "text/x-python",
   "name": "python",
   "nbconvert_exporter": "python",
   "pygments_lexer": "ipython3",
   "version": "3.8.13"
  },
  "orig_nbformat": 4,
  "vscode": {
   "interpreter": {
    "hash": "9fa37778d2a6e26a8766767509fcb8b45bd11e977b1dc872eb09c049764accf1"
   }
  }
 },
 "nbformat": 4,
 "nbformat_minor": 2
}
