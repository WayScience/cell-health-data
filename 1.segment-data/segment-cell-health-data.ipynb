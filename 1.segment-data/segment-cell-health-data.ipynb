{
 "cells": [
  {
   "cell_type": "markdown",
   "metadata": {},
   "source": [
    "# Cell Health Data Segmentor\n",
    "### Find center coordinates for cells from Cell Health data\n",
    "\n",
    "#### Import libraries"
   ]
  },
  {
   "cell_type": "code",
   "execution_count": 1,
   "metadata": {},
   "outputs": [],
   "source": [
    "#from cellpose.io import logger_setup\n",
    "from cellpose import models, core, io, utils\n",
    "\n",
    "import pathlib\n",
    "import pandas as pd"
   ]
  },
  {
   "cell_type": "markdown",
   "metadata": {},
   "source": [
    "### Set Up CellPose"
   ]
  },
  {
   "cell_type": "code",
   "execution_count": 2,
   "metadata": {},
   "outputs": [
    {
     "name": "stdout",
     "output_type": "stream",
     "text": [
      ">>> GPU activated? 1\n"
     ]
    }
   ],
   "source": [
    "use_GPU = core.use_gpu()\n",
    "print('>>> GPU activated? %d'%use_GPU)\n",
    "#logger_setup();"
   ]
  },
  {
   "cell_type": "markdown",
   "metadata": {},
   "source": [
    "### Helper functions for segmenting Cell Health data"
   ]
  },
  {
   "cell_type": "code",
   "execution_count": 3,
   "metadata": {},
   "outputs": [],
   "source": [
    "def get_nuclei_locations(DNA_image_path: pathlib.Path, save_path: pathlib.Path, cellpose_model: models.Cellpose) -> pd.DataFrame:\n",
    "    \"\"\"finds center X,Y of nuclei and saves as tsv file\n",
    "\n",
    "    Args:\n",
    "        DNA_image_path (pathlib.Path): path to DNA channel image\n",
    "        save_path (pathlib.Path): path to save nuclei locations tsv\n",
    "        cellpose_model (models.Cellpose): cellpose model for segmenting nuclei\n",
    "\n",
    "    Returns:\n",
    "        pd.DataFrame: dataframe with nuclei center coords\n",
    "    \"\"\"\n",
    "    nuclei_data = []\n",
    "    \n",
    "    #use cellpose to get nuclei outlines\n",
    "    frame_image = io.imread(DNA_image_path)\n",
    "    masks, flows, styles, diams = cellpose_model.eval(frame_image, diameter=80, channels=[0,0], flow_threshold=0)\n",
    "    outlines = utils.outlines_list(masks)\n",
    "    \n",
    "    for outline in outlines:\n",
    "        centroid = outline.mean(axis=0)\n",
    "        nucleus_data = {\"Location_Center_X\": centroid[0], \"Location_Center_Y\": centroid[1]}\n",
    "        nuclei_data.append(nucleus_data)\n",
    "        \n",
    "    nuclei_data = pd.DataFrame(nuclei_data)\n",
    "    return nuclei_data\n",
    "\n",
    "def segment_cell_health(data_path: pathlib.Path, save_path: pathlib.Path, cellpose_model_DNA: models.Cellpose, cellpose_model_actin: models.Cellpose):\n",
    "    \"\"\"segments cell health data from data_path and save segmentation data in save_path using cellpose_model\n",
    "\n",
    "    Args:\n",
    "        data_path (pathlib.Path): load path for cell health data\n",
    "        save_path (pathlib.Path): save path for segmentation data\n",
    "        cellpose_model_DNA (models.Cellpose): cell pose model to use for segmenting DNA\n",
    "        cellpose_model_actin (models.Cellpose): cell pose model to use for segmentating actin\n",
    "    \"\"\"\n",
    "    \n",
    "    for plate_path in data_path.iterdir():\n",
    "        print(f\"Segmenting plate {plate_path.name}\")\n",
    "        for image_folder in plate_path.iterdir():\n",
    "            for image_file in image_folder.iterdir():\n",
    "                if \".tiff\" in image_file.name:\n",
    "                    \n",
    "                    if \"-ch1\" in image_file.name:\n",
    "                        nuc_save_path = str(image_file).replace(\"cell-health\", \"cell-health-segmented\")\n",
    "                        nuc_save_path = nuc_save_path.replace(\".tiff\", \"-segmented.tsv\")\n",
    "                        nuc_save_path = pathlib.Path(nuc_save_path)\n",
    "                        \n",
    "                        if not nuc_save_path.is_file():\n",
    "                            print(f\"Segmenting {nuc_save_path.name}\")\n",
    "                            nuc_save_path.parents[0].mkdir(parents=True, exist_ok=True)\n",
    "                            nuc_locations = get_nuclei_locations(image_file, nuc_save_path, cellpose_model_DNA)\n",
    "                            nuc_locations.to_csv(nuc_save_path, sep=\"\\t\")\n",
    "                        else:\n",
    "                            print(f\"{nuc_save_path.name} already exists!\")"
   ]
  },
  {
   "cell_type": "code",
   "execution_count": 4,
   "metadata": {},
   "outputs": [
    {
     "name": "stdout",
     "output_type": "stream",
     "text": [
      "Segmenting plate SQ00014617\n",
      "r07c18f04p01-ch1sk1fk1fl1-segmented.tsv already exists!\n",
      "r03c16f02p01-ch1sk1fk1fl1-segmented.tsv already exists!\n",
      "r03c02f04p01-ch1sk1fk1fl1-segmented.tsv already exists!\n",
      "r05c04f08p01-ch1sk1fk1fl1-segmented.tsv already exists!\n",
      "r06c19f07p01-ch1sk1fk1fl1-segmented.tsv already exists!\n",
      "r16c14f08p01-ch1sk1fk1fl1-segmented.tsv already exists!\n",
      "r04c24f06p01-ch1sk1fk1fl1-segmented.tsv already exists!\n",
      "r06c19f05p01-ch1sk1fk1fl1-segmented.tsv already exists!\n",
      "r08c10f04p01-ch1sk1fk1fl1-segmented.tsv already exists!\n",
      "r07c03f05p01-ch1sk1fk1fl1-segmented.tsv already exists!\n",
      "r01c15f07p01-ch1sk1fk1fl1-segmented.tsv already exists!\n",
      "r07c18f01p01-ch1sk1fk1fl1-segmented.tsv already exists!\n",
      "r08c18f05p01-ch1sk1fk1fl1-segmented.tsv already exists!\n",
      "r05c21f07p01-ch1sk1fk1fl1-segmented.tsv already exists!\n",
      "r07c04f06p01-ch1sk1fk1fl1-segmented.tsv already exists!\n",
      "r11c21f02p01-ch1sk1fk1fl1-segmented.tsv already exists!\n",
      "r04c14f04p01-ch1sk1fk1fl1-segmented.tsv already exists!\n",
      "r06c05f02p01-ch1sk1fk1fl1-segmented.tsv already exists!\n",
      "r12c14f02p01-ch1sk1fk1fl1-segmented.tsv already exists!\n",
      "r09c20f08p01-ch1sk1fk1fl1-segmented.tsv already exists!\n",
      "r16c21f02p01-ch1sk1fk1fl1-segmented.tsv already exists!\n",
      "r04c05f06p01-ch1sk1fk1fl1-segmented.tsv already exists!\n",
      "r04c14f02p01-ch1sk1fk1fl1-segmented.tsv already exists!\n",
      "r07c06f07p01-ch1sk1fk1fl1-segmented.tsv already exists!\n",
      "r02c12f04p01-ch1sk1fk1fl1-segmented.tsv already exists!\n",
      "r07c15f03p01-ch1sk1fk1fl1-segmented.tsv already exists!\n",
      "r11c14f01p01-ch1sk1fk1fl1-segmented.tsv already exists!\n",
      "r12c23f08p01-ch1sk1fk1fl1-segmented.tsv already exists!\n",
      "r05c22f02p01-ch1sk1fk1fl1-segmented.tsv already exists!\n",
      "r08c08f06p01-ch1sk1fk1fl1-segmented.tsv already exists!\n",
      "r12c08f02p01-ch1sk1fk1fl1-segmented.tsv already exists!\n",
      "r16c06f06p01-ch1sk1fk1fl1-segmented.tsv already exists!\n",
      "r15c04f06p01-ch1sk1fk1fl1-segmented.tsv already exists!\n",
      "r01c02f08p01-ch1sk1fk1fl1-segmented.tsv already exists!\n",
      "r14c23f01p01-ch1sk1fk1fl1-segmented.tsv already exists!\n",
      "r15c04f07p01-ch1sk1fk1fl1-segmented.tsv already exists!\n",
      "r12c02f09p01-ch1sk1fk1fl1-segmented.tsv already exists!\n",
      "r05c01f06p01-ch1sk1fk1fl1-segmented.tsv already exists!\n",
      "r08c17f07p01-ch1sk1fk1fl1-segmented.tsv already exists!\n",
      "r11c01f03p01-ch1sk1fk1fl1-segmented.tsv already exists!\n",
      "r07c03f07p01-ch1sk1fk1fl1-segmented.tsv already exists!\n",
      "r09c18f09p01-ch1sk1fk1fl1-segmented.tsv already exists!\n",
      "r14c16f03p01-ch1sk1fk1fl1-segmented.tsv already exists!\n",
      "r08c22f01p01-ch1sk1fk1fl1-segmented.tsv already exists!\n",
      "r10c12f09p01-ch1sk1fk1fl1-segmented.tsv already exists!\n",
      "r07c14f08p01-ch1sk1fk1fl1-segmented.tsv already exists!\n",
      "r08c22f03p01-ch1sk1fk1fl1-segmented.tsv already exists!\n",
      "r16c18f08p01-ch1sk1fk1fl1-segmented.tsv already exists!\n",
      "r07c17f05p01-ch1sk1fk1fl1-segmented.tsv already exists!\n",
      "r01c04f07p01-ch1sk1fk1fl1-segmented.tsv already exists!\n",
      "r11c21f09p01-ch1sk1fk1fl1-segmented.tsv already exists!\n",
      "r05c02f03p01-ch1sk1fk1fl1-segmented.tsv already exists!\n",
      "r01c09f01p01-ch1sk1fk1fl1-segmented.tsv already exists!\n",
      "r12c21f04p01-ch1sk1fk1fl1-segmented.tsv already exists!\n",
      "r05c20f03p01-ch1sk1fk1fl1-segmented.tsv already exists!\n",
      "r04c06f08p01-ch1sk1fk1fl1-segmented.tsv already exists!\n",
      "r14c20f05p01-ch1sk1fk1fl1-segmented.tsv already exists!\n",
      "r09c20f01p01-ch1sk1fk1fl1-segmented.tsv already exists!\n",
      "r05c21f06p01-ch1sk1fk1fl1-segmented.tsv already exists!\n",
      "r06c09f09p01-ch1sk1fk1fl1-segmented.tsv already exists!\n",
      "r06c13f04p01-ch1sk1fk1fl1-segmented.tsv already exists!\n",
      "r12c03f08p01-ch1sk1fk1fl1-segmented.tsv already exists!\n",
      "r16c10f07p01-ch1sk1fk1fl1-segmented.tsv already exists!\n",
      "r02c14f09p01-ch1sk1fk1fl1-segmented.tsv already exists!\n",
      "r15c06f07p01-ch1sk1fk1fl1-segmented.tsv already exists!\n",
      "r01c12f07p01-ch1sk1fk1fl1-segmented.tsv already exists!\n",
      "r10c10f07p01-ch1sk1fk1fl1-segmented.tsv already exists!\n",
      "r15c10f07p01-ch1sk1fk1fl1-segmented.tsv already exists!\n",
      "r05c06f05p01-ch1sk1fk1fl1-segmented.tsv already exists!\n",
      "r05c16f09p01-ch1sk1fk1fl1-segmented.tsv already exists!\n",
      "Segmenting r03c07f09p01-ch1sk1fk1fl1-segmented.tsv\n",
      "Segmenting r12c20f06p01-ch1sk1fk1fl1-segmented.tsv\n",
      "Segmenting r05c15f05p01-ch1sk1fk1fl1-segmented.tsv\n"
     ]
    }
   ],
   "source": [
    "data_path = pathlib.Path(\"/media/roshankern/63af2010-c376-459e-a56e-576b170133b6/data/cell-health/\")\n",
    "save_path = pathlib.Path(\"/media/roshankern/63af2010-c376-459e-a56e-576b170133b6/data/cell-health-segmented/\")\n",
    "cellpose_model_DNA = models.Cellpose(gpu=True, model_type='cyto')\n",
    "cellpose_model_actin = models.Cellpose(gpu=True, model_type='cyto')\n",
    "\n",
    "segment_cell_health(data_path, save_path, cellpose_model_DNA, cellpose_model_actin)"
   ]
  }
 ],
 "metadata": {
  "kernelspec": {
   "display_name": "Python 3.8.13 ('1.segment-data-cell-health')",
   "language": "python",
   "name": "python3"
  },
  "language_info": {
   "codemirror_mode": {
    "name": "ipython",
    "version": 3
   },
   "file_extension": ".py",
   "mimetype": "text/x-python",
   "name": "python",
   "nbconvert_exporter": "python",
   "pygments_lexer": "ipython3",
   "version": "3.8.13"
  },
  "orig_nbformat": 4,
  "vscode": {
   "interpreter": {
    "hash": "07e9f893e05fafa9cc2f8f807a06766daf8178bf7abbc98ff4ede1a2416403f1"
   }
  }
 },
 "nbformat": 4,
 "nbformat_minor": 2
}
