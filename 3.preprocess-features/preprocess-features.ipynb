{
 "cells": [
  {
   "cell_type": "markdown",
   "metadata": {},
   "source": [
    "### Import Libraries"
   ]
  },
  {
   "cell_type": "code",
   "execution_count": 1,
   "metadata": {},
   "outputs": [],
   "source": [
    "import pathlib\n",
    "from pycytominer.cyto_utils import DeepProfiler_processing\n",
    "import pandas as pd\n",
    "import numpy as np\n",
    "import joblib\n",
    "\n",
    "import importlib\n",
    "preprocessUtils = importlib.import_module(\"preprocess-features-utils\")"
   ]
  },
  {
   "cell_type": "markdown",
   "metadata": {},
   "source": [
    "### Specify File/Folder paths"
   ]
  },
  {
   "cell_type": "code",
   "execution_count": 2,
   "metadata": {},
   "outputs": [],
   "source": [
    "intermediate_files_dir = pathlib.Path(\"intermediate_files/\")\n",
    "intermediate_files_dir.mkdir(parents=True, exist_ok=True)\n",
    "\n",
    "annotations_path = pathlib.Path(\"../0.image-download/manifest/idr0080-screenA-annotation.csv\")\n",
    "\n",
    "features_output_dir = pathlib.Path(\"/media/roshankern/63af2010-c376-459e-a56e-576b170133b6/data/cell-health-nuc-DP/outputs/efn_pretrained/features\")\n",
    "original_index_csv_path = pathlib.Path(\"/media/roshankern/63af2010-c376-459e-a56e-576b170133b6/data/cell-health-nuc-DP/inputs/metadata/index.csv\")"
   ]
  },
  {
   "cell_type": "markdown",
   "metadata": {},
   "source": [
    "### Convert index.csv to int values"
   ]
  },
  {
   "cell_type": "code",
   "execution_count": 3,
   "metadata": {},
   "outputs": [],
   "source": [
    "index_csv_path = pathlib.Path(f\"{intermediate_files_dir}/index.csv\")\n",
    "# convert string values to int where possible (ex with well number)\n",
    "# necessary because pycytominer reads index.csv file with `dtype=str`\n",
    "original_index_csv = pd.read_csv(original_index_csv_path)\n",
    "original_index_csv.to_csv(index_csv_path)"
   ]
  },
  {
   "cell_type": "markdown",
   "metadata": {},
   "source": [
    "### Create index df with normalization population"
   ]
  },
  {
   "cell_type": "code",
   "execution_count": 4,
   "metadata": {},
   "outputs": [],
   "source": [
    "normalization_index_csv = pathlib.Path(f\"{intermediate_files_dir}/norm_pop_index.csv\")\n",
    "\n",
    "norm_index_df = preprocessUtils.get_negative_control_index_df(index_csv_path, annotations_path)\n",
    "norm_index_df.to_csv(normalization_index_csv, index=False)"
   ]
  },
  {
   "cell_type": "markdown",
   "metadata": {},
   "source": [
    "### Create/save normalization scaler"
   ]
  },
  {
   "cell_type": "code",
   "execution_count": 5,
   "metadata": {},
   "outputs": [
    {
     "name": "stderr",
     "output_type": "stream",
     "text": [
      "/home/roshankern/Desktop/Github/pycytominer/pycytominer/cyto_utils/DeepProfiler_processing.py:387: UserWarning: No features could be found at /media/roshankern/63af2010-c376-459e-a56e-576b170133b6/data/cell-health-nuc-DP/outputs/efn_pretrained/features/SQ00014610/P24/1.npz.\n",
      "This program will continue, but be aware that this might induce errors!\n",
      "  warnings.warn(\n"
     ]
    }
   ],
   "source": [
    "scaler_path = f\"{intermediate_files_dir}/negative_control_scaler.sclr\"\n",
    "\n",
    "scaler = preprocessUtils.get_normalization_scaler(normalization_index_csv, features_output_dir)\n",
    "joblib.dump(scaler, scaler_path)\n",
    "\n",
    "scaler = joblib.load(scaler_path)"
   ]
  },
  {
   "cell_type": "markdown",
   "metadata": {},
   "source": [
    "### Normalize and save Cell Health single cells by plate"
   ]
  },
  {
   "cell_type": "code",
   "execution_count": 6,
   "metadata": {},
   "outputs": [
    {
     "name": "stdout",
     "output_type": "stream",
     "text": [
      "Compiling plate SQ00014617\n"
     ]
    }
   ],
   "source": [
    "output_path = pathlib.Path(\"/media/roshankern/63af2010-c376-459e-a56e-576b170133b6/data/cell-health-nuc-normalized/\")\n",
    "preprocessUtils.normalize_by_plate(index_csv_path, scaler, features_output_dir, output_path)"
   ]
  }
 ],
 "metadata": {
  "kernelspec": {
   "display_name": "Python 3.8.13 ('3.preprocess-features-cell-health')",
   "language": "python",
   "name": "python3"
  },
  "language_info": {
   "codemirror_mode": {
    "name": "ipython",
    "version": 3
   },
   "file_extension": ".py",
   "mimetype": "text/x-python",
   "name": "python",
   "nbconvert_exporter": "python",
   "pygments_lexer": "ipython3",
   "version": "3.8.13"
  },
  "orig_nbformat": 4,
  "vscode": {
   "interpreter": {
    "hash": "ea737ffdd6ff37fb37dc042ef9371ec668016fc55f52895396989bbd754ea958"
   }
  }
 },
 "nbformat": 4,
 "nbformat_minor": 2
}
