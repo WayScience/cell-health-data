{
 "cells": [
  {
   "cell_type": "code",
   "execution_count": null,
   "metadata": {},
   "outputs": [],
   "source": [
    "import pathlib\n",
    "import subprocess\n",
    "import os"
   ]
  },
  {
   "cell_type": "code",
   "execution_count": null,
   "metadata": {},
   "outputs": [],
   "source": [
    "# data_path needs to reflect the location of nuclei and segmentation mask images\n",
    "\n",
    "nuclei_images_load_path = pathlib.Path(\n",
    "    \"/media/roshankern/63af2010-c376-459e-a56e-576b170133b6/data/cell-health\"\n",
    ")\n",
    "\n",
    "all_data_load_path = pathlib.Path(\n",
    "    \"/media/roshankern/63af2010-c376-459e-a56e-576b170133b6/data/\"\n",
    ")\n",
    "\n",
    "features_save_path = pathlib.Path(\n",
    "    \"/media/roshankern/63af2010-c376-459e-a56e-576b170133b6/data/cell-health-nuc-CP/\"\n",
    ")\n",
    "\n",
    "pipeline_path = pathlib.Path(\"process_CellHealth.cppipe\")\n",
    "\n",
    "# iterate through plates in load path\n",
    "for plate_path in nuclei_images_load_path.iterdir():\n",
    "    print(f\"Extracting CP features for plate {plate_path.name}\")\n",
    "\n",
    "    # iterate through image paths in plates (there should only be one)\n",
    "    for image_folder_path in plate_path.iterdir():\n",
    "\n",
    "        # features folder that all extracted CP features will be saved to\n",
    "        features_folder_path = pathlib.Path(\n",
    "            f\"{features_save_path}/{plate_path.name}\"\n",
    "        )\n",
    "        features_folder_path.mkdir(exist_ok=True, parents=True)\n",
    "\n",
    "        # file to log CP output to\n",
    "        log_file_path = pathlib.Path(\n",
    "            f\"{features_save_path}/{plate_path.name}/CP_plate_run.log\"\n",
    "        )\n",
    "\n",
    "        with open(\n",
    "            log_file_path,\n",
    "            \"w\",\n",
    "        ) as cellprofiler_output_file:\n",
    "            # run CellProfiler for a illumination correction pipeline\n",
    "            command_components = [\n",
    "                \"cellprofiler\",\n",
    "                \"-c\",\n",
    "                \"-r\",\n",
    "                \"-p\",\n",
    "                str(pipeline_path.absolute()),\n",
    "                \"-o\",\n",
    "                str(features_folder_path.absolute()),\n",
    "                \"-i\",\n",
    "                f\"{all_data_load_path.absolute()}\",\n",
    "                \"-g\",\n",
    "                f\"Metadata_Plate={plate_path.name}\",\n",
    "            ]\n",
    "            command = \" \".join(command_components)\n",
    "            print(command)\n",
    "            subprocess.run(\n",
    "                command_components,\n",
    "                stdout=cellprofiler_output_file,\n",
    "                stderr=cellprofiler_output_file,\n",
    "                check=True,\n",
    "            )\n",
    "            print(\n",
    "                f\"The CellProfiler run has been completed for {plate_path.name}. Please check log file for any errors.\"\n",
    "            )"
   ]
  }
 ],
 "metadata": {
  "kernelspec": {
   "display_name": "Python 3.8.13 ('cp-feature-extraction-test')",
   "language": "python",
   "name": "python3"
  },
  "language_info": {
   "codemirror_mode": {
    "name": "ipython",
    "version": 3
   },
   "file_extension": ".py",
   "mimetype": "text/x-python",
   "name": "python",
   "nbconvert_exporter": "python",
   "pygments_lexer": "ipython3",
   "version": "3.8.13"
  },
  "orig_nbformat": 4,
  "vscode": {
   "interpreter": {
    "hash": "47683e24a8ae71485dcbf559711642c619ab7935f5cbeba467f7218ccecd1b24"
   }
  }
 },
 "nbformat": 4,
 "nbformat_minor": 2
}
