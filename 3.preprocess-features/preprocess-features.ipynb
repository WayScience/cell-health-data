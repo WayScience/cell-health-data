{
 "cells": [
  {
   "cell_type": "markdown",
   "metadata": {},
   "source": [
    "### Import Libraries"
   ]
  },
  {
   "cell_type": "code",
   "execution_count": 1,
   "metadata": {},
   "outputs": [],
   "source": [
    "import pathlib\n",
    "from pycytominer.cyto_utils import DeepProfiler_processing\n",
    "import pandas as pd\n",
    "import numpy as np\n",
    "import joblib\n",
    "\n",
    "import importlib\n",
    "preprocessUtils = importlib.import_module(\"preprocess-features-utils\")"
   ]
  },
  {
   "cell_type": "markdown",
   "metadata": {},
   "source": [
    "### Specify File/Folder paths"
   ]
  },
  {
   "cell_type": "code",
   "execution_count": 2,
   "metadata": {},
   "outputs": [],
   "source": [
    "intermediate_files_dir = pathlib.Path(\"intermediate_files/\")\n",
    "intermediate_files_dir.mkdir(parents=True, exist_ok=True)\n",
    "\n",
    "annotations_path = pathlib.Path(\"../0.image-download/manifest/idr0080-screenA-annotation.csv\")\n",
    "\n",
    "DP_project_path = pathlib.Path(\"/media/roshankern/63af2010-c376-459e-a56e-576b170133b6/data/cell-health-nuc-DP\")\n",
    "features_output_dir = pathlib.Path(f\"{DP_project_path}/outputs/efn_pretrained/features\")\n",
    "original_index_csv_path = pathlib.Path(f\"{DP_project_path}/inputs/metadata/index.csv\")\n",
    "\n",
    "output_path = pathlib.Path(\"/media/roshankern/63af2010-c376-459e-a56e-576b170133b6/data/cell-health-nuc-per-plate-normalized/\")\n",
    "output_path.mkdir(parents=True, exist_ok=True)"
   ]
  },
  {
   "cell_type": "markdown",
   "metadata": {},
   "source": [
    "### Convert index.csv to int values"
   ]
  },
  {
   "cell_type": "code",
   "execution_count": 3,
   "metadata": {},
   "outputs": [],
   "source": [
    "index_csv_path = pathlib.Path(f\"{intermediate_files_dir}/index.csv\")\n",
    "# convert string values to int where possible (ex with well number)\n",
    "# necessary because pycytominer reads index.csv file with `dtype=str`\n",
    "original_index_csv = pd.read_csv(original_index_csv_path)\n",
    "original_index_csv.to_csv(index_csv_path)"
   ]
  },
  {
   "cell_type": "markdown",
   "metadata": {},
   "source": [
    "### Find negative controls for each plate, derive scalers from these negative controls, normalize entire plate with scaler, save normalized plate"
   ]
  },
  {
   "cell_type": "code",
   "execution_count": 4,
   "metadata": {},
   "outputs": [
    {
     "name": "stdout",
     "output_type": "stream",
     "text": [
      "Finding negative controls for plate SQ00014617\n",
      "Deriving scaler for plate SQ00014617\n"
     ]
    },
    {
     "ename": "TypeError",
     "evalue": "normalize_plate() takes 4 positional arguments but 5 were given",
     "output_type": "error",
     "traceback": [
      "\u001b[0;31m---------------------------------------------------------------------------\u001b[0m",
      "\u001b[0;31mTypeError\u001b[0m                                 Traceback (most recent call last)",
      "\u001b[1;32m/home/roshankern/Desktop/Github/cell-health-data/3.preprocess-features/preprocess-features.ipynb Cell 8\u001b[0m in \u001b[0;36m<cell line: 4>\u001b[0;34m()\u001b[0m\n\u001b[1;32m     <a href='vscode-notebook-cell:/home/roshankern/Desktop/Github/cell-health-data/3.preprocess-features/preprocess-features.ipynb#X20sZmlsZQ%3D%3D?line=12'>13</a>\u001b[0m scaler \u001b[39m=\u001b[39m preprocessUtils\u001b[39m.\u001b[39mget_normalization_scaler(plate_normalization_index_csv, features_output_dir)\n\u001b[1;32m     <a href='vscode-notebook-cell:/home/roshankern/Desktop/Github/cell-health-data/3.preprocess-features/preprocess-features.ipynb#X20sZmlsZQ%3D%3D?line=13'>14</a>\u001b[0m \u001b[39m# get compiled normalized plate features\u001b[39;00m\n\u001b[0;32m---> <a href='vscode-notebook-cell:/home/roshankern/Desktop/Github/cell-health-data/3.preprocess-features/preprocess-features.ipynb#X20sZmlsZQ%3D%3D?line=14'>15</a>\u001b[0m plate_pop \u001b[39m=\u001b[39m preprocessUtils\u001b[39m.\u001b[39;49mnormalize_plate(index_csv_path, scaler, features_output_dir, output_path, plate)\n\u001b[1;32m     <a href='vscode-notebook-cell:/home/roshankern/Desktop/Github/cell-health-data/3.preprocess-features/preprocess-features.ipynb#X20sZmlsZQ%3D%3D?line=15'>16</a>\u001b[0m \u001b[39m# save compiled normalized plate features\u001b[39;00m\n\u001b[1;32m     <a href='vscode-notebook-cell:/home/roshankern/Desktop/Github/cell-health-data/3.preprocess-features/preprocess-features.ipynb#X20sZmlsZQ%3D%3D?line=16'>17</a>\u001b[0m \u001b[39mprint\u001b[39m(\u001b[39mf\u001b[39m\u001b[39m\"\u001b[39m\u001b[39mSaving plate \u001b[39m\u001b[39m{\u001b[39;00mplate\u001b[39m}\u001b[39;00m\u001b[39m\"\u001b[39m)\n",
      "\u001b[0;31mTypeError\u001b[0m: normalize_plate() takes 4 positional arguments but 5 were given"
     ]
    }
   ],
   "source": [
    "# get list of unique plates\n",
    "plates = pd.read_csv(index_csv_path)[\"Metadata_Plate\"].unique().tolist()\n",
    "\n",
    "for plate in plates:\n",
    "    print(f\"Finding negative controls for plate {plate}\")\n",
    "    # create dataframe with normalization population (only negative controls for each plate)\n",
    "    plate_normalization_index_csv = pathlib.Path(f\"{intermediate_files_dir}/{plate}_norm_pop_index.csv\")\n",
    "    norm_index_df = preprocessUtils.get_negative_control_index_df(index_csv_path, annotations_path, plate)\n",
    "    # save normalization population dataframe so pycytominer knows where to load normalization features from\n",
    "    norm_index_df.to_csv(plate_normalization_index_csv, index=False)\n",
    "    # create per-plate normalization scaler from the normalization population\n",
    "    print(f\"Deriving scaler for plate {plate}\")\n",
    "    scaler = preprocessUtils.get_normalization_scaler(plate_normalization_index_csv, features_output_dir)\n",
    "    # get compiled normalized plate features\n",
    "    plate_pop = preprocessUtils.normalize_plate(index_csv_path, scaler, features_output_dir, plate)\n",
    "    # save compiled normalized plate features\n",
    "    print(f\"Saving plate {plate}\")\n",
    "    normalized_features_csv_path = pathlib.Path(f\"{output_path}/{plate}_normalized_single_cell.csv.gz\")\n",
    "    plate_pop.to_csv(normalized_features_csv_path, index=False, compression='gzip')\n"
   ]
  }
 ],
 "metadata": {
  "kernelspec": {
   "display_name": "Python 3.8.13 ('3.preprocess-features-cell-health')",
   "language": "python",
   "name": "python3"
  },
  "language_info": {
   "codemirror_mode": {
    "name": "ipython",
    "version": 3
   },
   "file_extension": ".py",
   "mimetype": "text/x-python",
   "name": "python",
   "nbconvert_exporter": "python",
   "pygments_lexer": "ipython3",
   "version": "3.8.13"
  },
  "orig_nbformat": 4,
  "vscode": {
   "interpreter": {
    "hash": "ea737ffdd6ff37fb37dc042ef9371ec668016fc55f52895396989bbd754ea958"
   }
  }
 },
 "nbformat": 4,
 "nbformat_minor": 2
}
