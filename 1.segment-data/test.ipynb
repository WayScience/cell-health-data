{
 "cells": [
  {
   "cell_type": "code",
   "execution_count": 1,
   "metadata": {},
   "outputs": [],
   "source": [
    "# from cellpose.io import logger_setup\n",
    "from cellpose import models, core, io, utils\n",
    "\n",
    "import pathlib\n",
    "import pandas as pd\n",
    "\n",
    "import cv2\n",
    "import numpy as np\n",
    "\n",
    "import importlib\n",
    "chs = importlib.import_module(\"cell-health-segmentation\")"
   ]
  },
  {
   "cell_type": "code",
   "execution_count": 2,
   "metadata": {},
   "outputs": [
    {
     "name": "stdout",
     "output_type": "stream",
     "text": [
      ">>> GPU activated? 1\n"
     ]
    }
   ],
   "source": [
    "use_GPU = core.use_gpu()\n",
    "print(\">>> GPU activated? %d\" % use_GPU)\n",
    "# logger_setup();"
   ]
  },
  {
   "cell_type": "code",
   "execution_count": 3,
   "metadata": {},
   "outputs": [],
   "source": [
    "# data_path needs to reflect the location of illumination corrected images after finishing 0.image-download\n",
    "load_path = pathlib.Path(\n",
    "    \"/media/roshankern/63af2010-c376-459e-a56e-576b170133b6/data/cell-health/\"\n",
    ")\n",
    "# save_path needs to reflect the desired location of the segmentation tsv files\n",
    "save_path = pathlib.Path(\n",
    "    \"/media/roshankern/63af2010-c376-459e-a56e-576b170133b6/data/cell-health-segmented/\"\n",
    ")\n",
    "\n",
    "nuclei_model_specs = {\n",
    "    \"model_type\": \"cyto\",\n",
    "    \"channels\": [0, 0],\n",
    "    \"diameter\": 80,\n",
    "    \"flow_threshold\": 0,\n",
    "    \"cellprob_threshold\": 0,\n",
    "    \"remove_edge_masks\": True,\n",
    "}\n",
    "\n",
    "cytoplasm_model_specs = {\n",
    "    \"model_type\": \"cyto\",\n",
    "    \"channels\": [1, 3],\n",
    "    \"diameter\": 0,\n",
    "    \"flow_threshold\": 0,\n",
    "    \"cellprob_threshold\": 0.4,\n",
    "    \"remove_edge_masks\": True,\n",
    "}"
   ]
  },
  {
   "cell_type": "code",
   "execution_count": 8,
   "metadata": {},
   "outputs": [
    {
     "data": {
      "text/plain": [
       "True"
      ]
     },
     "execution_count": 8,
     "metadata": {},
     "output_type": "execute_result"
    }
   ],
   "source": [
    "identifier = \"r01c02f06p01\"\n",
    "image_folder = pathlib.Path(\"../example_images/cell_line_3/\")\n",
    "overlay_image = chs.overlay_channels(identifier, image_folder)\n",
    "cv2.imwrite(\"../example_images/cell_line_3/overlay.tiff\", overlay_image)"
   ]
  }
 ],
 "metadata": {
  "kernelspec": {
   "display_name": "Python 3.8.13 ('1.segment-data-cell-health')",
   "language": "python",
   "name": "python3"
  },
  "language_info": {
   "codemirror_mode": {
    "name": "ipython",
    "version": 3
   },
   "file_extension": ".py",
   "mimetype": "text/x-python",
   "name": "python",
   "nbconvert_exporter": "python",
   "pygments_lexer": "ipython3",
   "version": "3.8.13"
  },
  "orig_nbformat": 4,
  "vscode": {
   "interpreter": {
    "hash": "07e9f893e05fafa9cc2f8f807a06766daf8178bf7abbc98ff4ede1a2416403f1"
   }
  }
 },
 "nbformat": 4,
 "nbformat_minor": 2
}
