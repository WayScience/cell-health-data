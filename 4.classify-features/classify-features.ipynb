{
 "cells": [
  {
   "cell_type": "markdown",
   "metadata": {},
   "source": [
    "# Classify Cell Health Nuclei Features\n",
    "\n",
    "### Import libraries"
   ]
  },
  {
   "cell_type": "code",
   "execution_count": 1,
   "metadata": {},
   "outputs": [],
   "source": [
    "import pathlib\n",
    "import urllib.request\n",
    "import joblib\n",
    "\n",
    "import importlib\n",
    "classification_utils = importlib.import_module(\"classification-utils\")"
   ]
  },
  {
   "cell_type": "markdown",
   "metadata": {},
   "source": [
    "### Download/load `phenotypic_profiling` model"
   ]
  },
  {
   "cell_type": "code",
   "execution_count": 2,
   "metadata": {},
   "outputs": [
    {
     "name": "stderr",
     "output_type": "stream",
     "text": [
      "/usr/lib/python3/dist-packages/sklearn/base.py:329: UserWarning: Trying to unpickle estimator LogisticRegression from version 1.1.1 when using version 0.23.2. This might lead to breaking code or invalid results. Use at your own risk.\n",
      "  warnings.warn(\n"
     ]
    }
   ],
   "source": [
    "gh_hash = \"64cfc46ecd92f1956af199c81f8ecf4dc292718f\"\n",
    "file_url = f\"https://raw.github.com/WayScience/phenotypic_profiling_model/{hash}/2.train_model/models/log_reg_model.joblib\"\n",
    "\n",
    "log_reg_model_path = pathlib.Path(\"log_reg_model.joblib\")\n",
    "urllib.request.urlretrieve(file_url, log_reg_model_path)\n",
    "log_reg_model = joblib.load(log_reg_model_path)"
   ]
  },
  {
   "cell_type": "markdown",
   "metadata": {},
   "source": [
    "### Get phenotypic class probabilities for each plate"
   ]
  },
  {
   "cell_type": "code",
   "execution_count": 3,
   "metadata": {},
   "outputs": [
    {
     "name": "stdout",
     "output_type": "stream",
     "text": [
      "Loading feature data for SQ00014611_normalized_single_cell.csv.gz...\n",
      "Classifying feature data for SQ00014611_normalized_single_cell.csv.gz...\n",
      "Saving classifications at plate_classifications/SQ00014611_cell_classifications.csv.gz...\n",
      "Loading feature data for SQ00014617_normalized_single_cell.csv.gz...\n",
      "Classifying feature data for SQ00014617_normalized_single_cell.csv.gz...\n",
      "Saving classifications at plate_classifications/SQ00014617_cell_classifications.csv.gz...\n",
      "Loading feature data for SQ00014613_normalized_single_cell.csv.gz...\n",
      "Classifying feature data for SQ00014613_normalized_single_cell.csv.gz...\n",
      "Saving classifications at plate_classifications/SQ00014613_cell_classifications.csv.gz...\n",
      "Loading feature data for SQ00014612_normalized_single_cell.csv.gz...\n",
      "Classifying feature data for SQ00014612_normalized_single_cell.csv.gz...\n",
      "Saving classifications at plate_classifications/SQ00014612_cell_classifications.csv.gz...\n",
      "Loading feature data for SQ00014618_normalized_single_cell.csv.gz...\n",
      "Classifying feature data for SQ00014618_normalized_single_cell.csv.gz...\n",
      "Saving classifications at plate_classifications/SQ00014618_cell_classifications.csv.gz...\n",
      "Loading feature data for SQ00014610_normalized_single_cell.csv.gz...\n",
      "Classifying feature data for SQ00014610_normalized_single_cell.csv.gz...\n",
      "Saving classifications at plate_classifications/SQ00014610_cell_classifications.csv.gz...\n",
      "Loading feature data for SQ00014614_normalized_single_cell.csv.gz...\n",
      "Classifying feature data for SQ00014614_normalized_single_cell.csv.gz...\n",
      "Saving classifications at plate_classifications/SQ00014614_cell_classifications.csv.gz...\n",
      "Loading feature data for SQ00014616_normalized_single_cell.csv.gz...\n",
      "Classifying feature data for SQ00014616_normalized_single_cell.csv.gz...\n",
      "Saving classifications at plate_classifications/SQ00014616_cell_classifications.csv.gz...\n",
      "Loading feature data for SQ00014615_normalized_single_cell.csv.gz...\n",
      "Classifying feature data for SQ00014615_normalized_single_cell.csv.gz...\n",
      "Saving classifications at plate_classifications/SQ00014615_cell_classifications.csv.gz...\n"
     ]
    }
   ],
   "source": [
    "normlized_plates_path = pathlib.Path(\"/media/roshankern/63af2010-c376-459e-a56e-576b170133b6/data/cell-health-nuc-per-plate-normalized/\")\n",
    "classifications_save_path = pathlib.Path(\"plate_classifications/\")\n",
    "classifications_save_path.mkdir(exist_ok=True, parents=True)\n",
    "\n",
    "# classify cells from each plate and save classifications\n",
    "for plate_load_path in normlized_plates_path.iterdir():\n",
    "    plate = plate_load_path.name.strip(\"_normalized_single_cell.csv.gz\")\n",
    "    plate_classification_save_path = pathlib.Path(f\"{classifications_save_path}/{plate}_cell_classifications.csv.gz\")\n",
    "    \n",
    "    plate_classifications = classification_utils.classify_plate_cells(log_reg_model, plate_load_path)\n",
    "    \n",
    "    print(f\"Saving classifications at {plate_classification_save_path}...\")\n",
    "    plate_classifications.to_csv(plate_classification_save_path, compression = \"gzip\")"
   ]
  }
 ],
 "metadata": {
  "kernelspec": {
   "display_name": "Python 3.10.4 64-bit",
   "language": "python",
   "name": "python3"
  },
  "language_info": {
   "codemirror_mode": {
    "name": "ipython",
    "version": 3
   },
   "file_extension": ".py",
   "mimetype": "text/x-python",
   "name": "python",
   "nbconvert_exporter": "python",
   "pygments_lexer": "ipython3",
   "version": "3.10.4"
  },
  "orig_nbformat": 4,
  "vscode": {
   "interpreter": {
    "hash": "916dbcbb3f70747c44a77c7bcd40155683ae19c65e1c03b4aa3499c5328201f1"
   }
  }
 },
 "nbformat": 4,
 "nbformat_minor": 2
}
