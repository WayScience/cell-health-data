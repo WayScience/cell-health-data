{
 "cells": [
  {
   "cell_type": "markdown",
   "metadata": {},
   "source": [
    "### Import Libraries"
   ]
  },
  {
   "cell_type": "code",
   "execution_count": 1,
   "metadata": {},
   "outputs": [],
   "source": [
    "import pathlib\n",
    "from pycytominer.cyto_utils import DeepProfiler_processing\n",
    "import pandas as pd\n",
    "import numpy as np\n",
    "import joblib\n",
    "\n",
    "import importlib\n",
    "preprocessUtils = importlib.import_module(\"preprocess-features-utils\")"
   ]
  },
  {
   "cell_type": "markdown",
   "metadata": {},
   "source": [
    "### Specify File/Folder paths"
   ]
  },
  {
   "cell_type": "code",
   "execution_count": 2,
   "metadata": {},
   "outputs": [],
   "source": [
    "intermediate_files_dir = pathlib.Path(\"intermediate_files/\")\n",
    "intermediate_files_dir.mkdir(parents=True, exist_ok=True)\n",
    "\n",
    "annotations_path = pathlib.Path(\"../0.image-download/manifest/idr0080-screenA-annotation.csv\")\n",
    "\n",
    "DP_project_path = pathlib.Path(\"/media/roshankern/63af2010-c376-459e-a56e-576b170133b6/data/cell-health-nuc-DP\")\n",
    "features_output_dir = pathlib.Path(f\"{DP_project_path}/outputs/efn_pretrained/features\")\n",
    "original_index_csv_path = pathlib.Path(f\"{DP_project_path}/inputs/metadata/index.csv\")\n",
    "\n",
    "output_path = pathlib.Path(\"/media/roshankern/63af2010-c376-459e-a56e-576b170133b6/data/cell-health-nuc-per-plate-normalized/\")\n",
    "output_path.mkdir(parents=True, exist_ok=True)"
   ]
  },
  {
   "cell_type": "markdown",
   "metadata": {},
   "source": [
    "### Convert index.csv to int values"
   ]
  },
  {
   "cell_type": "code",
   "execution_count": 3,
   "metadata": {},
   "outputs": [],
   "source": [
    "index_csv_path = pathlib.Path(f\"{intermediate_files_dir}/index.csv\")\n",
    "# convert string values to int where possible (ex with well number)\n",
    "# necessary because pycytominer reads index.csv file with `dtype=str`\n",
    "original_index_csv = pd.read_csv(original_index_csv_path)\n",
    "original_index_csv.to_csv(index_csv_path)"
   ]
  },
  {
   "cell_type": "markdown",
   "metadata": {},
   "source": [
    "### Find negative controls for each plate, derive scalers from these negative controls, normalize entire plate with scaler, save normalized plate"
   ]
  },
  {
   "cell_type": "code",
   "execution_count": 4,
   "metadata": {},
   "outputs": [
    {
     "name": "stdout",
     "output_type": "stream",
     "text": [
      "Finding negative controls for plate SQ00014617\n",
      "Deriving scaler for plate SQ00014617\n",
      "Compiling plate SQ00014617\n"
     ]
    },
    {
     "name": "stderr",
     "output_type": "stream",
     "text": [
      "/home/roshankern/Desktop/Github/pycytominer/pycytominer/cyto_utils/DeepProfiler_processing.py:387: UserWarning: No features could be found at /media/roshankern/63af2010-c376-459e-a56e-576b170133b6/data/cell-health-nuc-DP/outputs/efn_pretrained/features/SQ00014617/K22/7.npz.\n",
      "This program will continue, but be aware that this might induce errors!\n",
      "  warnings.warn(\n"
     ]
    },
    {
     "name": "stdout",
     "output_type": "stream",
     "text": [
      "Normalizing plate SQ00014617\n",
      "Saving plate SQ00014617\n"
     ]
    }
   ],
   "source": [
    "# get list of unique plates\n",
    "plates = pd.read_csv(index_csv_path)[\"Metadata_Plate\"].unique().tolist()\n",
    "\n",
    "for plate in plates:\n",
    "    print(f\"Finding negative controls for plate {plate}\")\n",
    "    # create dataframe with normalization population (only negative controls for each plate)\n",
    "    plate_normalization_index_csv = pathlib.Path(f\"{intermediate_files_dir}/{plate}_norm_pop_index.csv\")\n",
    "    norm_index_df = preprocessUtils.get_negative_control_index_df(index_csv_path, annotations_path, plate)\n",
    "    # save normalization population dataframe so pycytominer knows where to load normalization features from\n",
    "    norm_index_df.to_csv(plate_normalization_index_csv, index=False)\n",
    "    # create per-plate normalization scaler from the normalization population\n",
    "    print(f\"Deriving scaler for plate {plate}\")\n",
    "    scaler = preprocessUtils.get_normalization_scaler(plate_normalization_index_csv, features_output_dir)\n",
    "    # get compiled normalized plate features\n",
    "    plate_pop = preprocessUtils.normalize_plate(index_csv_path, scaler, features_output_dir, plate)\n",
    "    # save compiled normalized plate features\n",
    "    print(f\"Saving plate {plate}\")\n",
    "    normalized_features_csv_path = pathlib.Path(f\"{output_path}/{plate}_normalized_single_cell.csv.gz\")\n",
    "    plate_pop.to_csv(normalized_features_csv_path, index=False, compression='gzip')\n"
   ]
  }
 ],
 "metadata": {
  "kernelspec": {
   "display_name": "Python 3.8.13 ('3.preprocess-features-cell-health')",
   "language": "python",
   "name": "python3"
  },
  "language_info": {
   "codemirror_mode": {
    "name": "ipython",
    "version": 3
   },
   "file_extension": ".py",
   "mimetype": "text/x-python",
   "name": "python",
   "nbconvert_exporter": "python",
   "pygments_lexer": "ipython3",
   "version": "3.8.13"
  },
  "orig_nbformat": 4,
  "vscode": {
   "interpreter": {
    "hash": "ea737ffdd6ff37fb37dc042ef9371ec668016fc55f52895396989bbd754ea958"
   }
  }
 },
 "nbformat": 4,
 "nbformat_minor": 2
}
