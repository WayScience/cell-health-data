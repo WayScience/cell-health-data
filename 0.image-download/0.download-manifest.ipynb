{
 "cells": [
  {
   "cell_type": "markdown",
   "id": "fa8e8559-c07d-4b38-b8bb-fe899a617406",
   "metadata": {},
   "source": [
    "## Download the manifest files\n",
    "\n",
    "The IDR team curates two metadata files, which includes experimental details and downloadable file paths.\n",
    "\n",
    "1. Experimental details\n",
    "2. Plate info (including file paths)\n",
    "\n",
    "This notebook will download the relevant metadata file, and demonstrate how to extract file paths."
   ]
  },
  {
   "cell_type": "code",
   "execution_count": 1,
   "id": "fa69b437-4fbf-40c9-9cf0-2d8cf32f9009",
   "metadata": {},
   "outputs": [],
   "source": [
    "import pathlib\n",
    "import pandas as pd"
   ]
  },
  {
   "cell_type": "code",
   "execution_count": 2,
   "id": "0d09cb13-fb03-404d-91df-06b37dcb6f8a",
   "metadata": {},
   "outputs": [],
   "source": [
    "# The metadata files are stored on github\n",
    "repo = \"https://github.com/IDR/idr0080-way-perturbation\"\n",
    "commit = \"74e537fecaa4690f0c98cb1e9a64b45d103de3e3\"\n",
    "\n",
    "github_dir = f\"{repo}/raw/{commit}/screenA/\"\n",
    "output_dir = \"manifest\"\n",
    "\n",
    "metadata_file = \"idr0080-screenA-annotation.csv\"\n",
    "plate_file = \"idr0080-screenA-plates.tsv\""
   ]
  },
  {
   "cell_type": "code",
   "execution_count": 3,
   "id": "47037b07-b9f2-4ffb-a2ff-fbeff62d321b",
   "metadata": {},
   "outputs": [
    {
     "name": "stdout",
     "output_type": "stream",
     "text": [
      "(6912, 17)\n"
     ]
    },
    {
     "data": {
      "text/html": [
       "<div>\n",
       "<style scoped>\n",
       "    .dataframe tbody tr th:only-of-type {\n",
       "        vertical-align: middle;\n",
       "    }\n",
       "\n",
       "    .dataframe tbody tr th {\n",
       "        vertical-align: top;\n",
       "    }\n",
       "\n",
       "    .dataframe thead th {\n",
       "        text-align: right;\n",
       "    }\n",
       "</style>\n",
       "<table border=\"1\" class=\"dataframe\">\n",
       "  <thead>\n",
       "    <tr style=\"text-align: right;\">\n",
       "      <th></th>\n",
       "      <th>Plate</th>\n",
       "      <th>Well</th>\n",
       "      <th>Characteristics [Organism]</th>\n",
       "      <th>Term Source 1 REF</th>\n",
       "      <th>Term Source 1 Accession</th>\n",
       "      <th>Characteristics [Cell Line]</th>\n",
       "      <th>Term Source 2 REF</th>\n",
       "      <th>Term Source 2 Accession</th>\n",
       "      <th>Reagent Identifier</th>\n",
       "      <th>Sense Sequence</th>\n",
       "      <th>Antisense Sequence</th>\n",
       "      <th>Reagent Design Gene Annotation Build</th>\n",
       "      <th>Gene Identifier</th>\n",
       "      <th>Gene Symbol</th>\n",
       "      <th>Control Type</th>\n",
       "      <th>Channels</th>\n",
       "      <th>Comment [Image]</th>\n",
       "    </tr>\n",
       "  </thead>\n",
       "  <tbody>\n",
       "    <tr>\n",
       "      <th>0</th>\n",
       "      <td>SQ00014610_illum_corrected</td>\n",
       "      <td>A1</td>\n",
       "      <td>Homo sapiens</td>\n",
       "      <td>NCBITaxon</td>\n",
       "      <td>NCBITaxon_9606</td>\n",
       "      <td>A549</td>\n",
       "      <td>EFO</td>\n",
       "      <td>EFO_0001086</td>\n",
       "      <td>NaN</td>\n",
       "      <td>NaN</td>\n",
       "      <td>NaN</td>\n",
       "      <td>NaN</td>\n",
       "      <td>NaN</td>\n",
       "      <td>NaN</td>\n",
       "      <td>no reagent</td>\n",
       "      <td>Hoechst 33342 (DNA); Concanavalin A/Alexa 488 ...</td>\n",
       "      <td>images are illumination corrected; empty well</td>\n",
       "    </tr>\n",
       "    <tr>\n",
       "      <th>1</th>\n",
       "      <td>SQ00014610_illum_corrected</td>\n",
       "      <td>A2</td>\n",
       "      <td>Homo sapiens</td>\n",
       "      <td>NCBITaxon</td>\n",
       "      <td>NCBITaxon_9606</td>\n",
       "      <td>A549</td>\n",
       "      <td>EFO</td>\n",
       "      <td>EFO_0001086</td>\n",
       "      <td>MCL1-5</td>\n",
       "      <td>CATTCCTGATGCCACCTTCT</td>\n",
       "      <td>GTAAGGACTACGGTGGAAGA</td>\n",
       "      <td>Ensembl release 101 - August 2020</td>\n",
       "      <td>ENSG00000143384</td>\n",
       "      <td>MCL1</td>\n",
       "      <td>NaN</td>\n",
       "      <td>Hoechst 33342 (DNA); Concanavalin A/Alexa 488 ...</td>\n",
       "      <td>images are illumination corrected</td>\n",
       "    </tr>\n",
       "  </tbody>\n",
       "</table>\n",
       "</div>"
      ],
      "text/plain": [
       "                        Plate Well Characteristics [Organism]  \\\n",
       "0  SQ00014610_illum_corrected   A1               Homo sapiens   \n",
       "1  SQ00014610_illum_corrected   A2               Homo sapiens   \n",
       "\n",
       "  Term Source 1 REF Term Source 1 Accession Characteristics [Cell Line]  \\\n",
       "0         NCBITaxon          NCBITaxon_9606                        A549   \n",
       "1         NCBITaxon          NCBITaxon_9606                        A549   \n",
       "\n",
       "  Term Source 2 REF Term Source 2 Accession Reagent Identifier  \\\n",
       "0               EFO             EFO_0001086                NaN   \n",
       "1               EFO             EFO_0001086             MCL1-5   \n",
       "\n",
       "         Sense Sequence    Antisense Sequence  \\\n",
       "0                   NaN                   NaN   \n",
       "1  CATTCCTGATGCCACCTTCT  GTAAGGACTACGGTGGAAGA   \n",
       "\n",
       "  Reagent Design Gene Annotation Build  Gene Identifier Gene Symbol  \\\n",
       "0                                  NaN              NaN         NaN   \n",
       "1    Ensembl release 101 - August 2020  ENSG00000143384        MCL1   \n",
       "\n",
       "  Control Type                                           Channels  \\\n",
       "0   no reagent  Hoechst 33342 (DNA); Concanavalin A/Alexa 488 ...   \n",
       "1          NaN  Hoechst 33342 (DNA); Concanavalin A/Alexa 488 ...   \n",
       "\n",
       "                                 Comment [Image]  \n",
       "0  images are illumination corrected; empty well  \n",
       "1              images are illumination corrected  "
      ]
     },
     "execution_count": 3,
     "metadata": {},
     "output_type": "execute_result"
    }
   ],
   "source": [
    "# Load metadata file and write to local disk\n",
    "metadata_df = pd.read_csv(f\"{github_dir}/{metadata_file}\")\n",
    "\n",
    "output_file = pathlib.Path(output_dir, metadata_file)\n",
    "metadata_df.to_csv(output_file, sep=\",\", index=False)\n",
    "\n",
    "print(metadata_df.shape)\n",
    "metadata_df.head(2)"
   ]
  },
  {
   "cell_type": "code",
   "execution_count": 4,
   "id": "272759b7-eadc-4681-9d7d-b2d1bf39a311",
   "metadata": {},
   "outputs": [
    {
     "name": "stdout",
     "output_type": "stream",
     "text": [
      "(18, 2)\n"
     ]
    },
    {
     "data": {
      "text/html": [
       "<div>\n",
       "<style scoped>\n",
       "    .dataframe tbody tr th:only-of-type {\n",
       "        vertical-align: middle;\n",
       "    }\n",
       "\n",
       "    .dataframe tbody tr th {\n",
       "        vertical-align: top;\n",
       "    }\n",
       "\n",
       "    .dataframe thead th {\n",
       "        text-align: right;\n",
       "    }\n",
       "</style>\n",
       "<table border=\"1\" class=\"dataframe\">\n",
       "  <thead>\n",
       "    <tr style=\"text-align: right;\">\n",
       "      <th></th>\n",
       "      <th>plate</th>\n",
       "      <th>manifest_path</th>\n",
       "    </tr>\n",
       "  </thead>\n",
       "  <tbody>\n",
       "    <tr>\n",
       "      <th>0</th>\n",
       "      <td>SQ00014610</td>\n",
       "      <td>/uod/idr/filesets/idr0080-way-perturbation/202...</td>\n",
       "    </tr>\n",
       "    <tr>\n",
       "      <th>1</th>\n",
       "      <td>SQ00014611</td>\n",
       "      <td>/uod/idr/filesets/idr0080-way-perturbation/202...</td>\n",
       "    </tr>\n",
       "  </tbody>\n",
       "</table>\n",
       "</div>"
      ],
      "text/plain": [
       "        plate                                      manifest_path\n",
       "0  SQ00014610  /uod/idr/filesets/idr0080-way-perturbation/202...\n",
       "1  SQ00014611  /uod/idr/filesets/idr0080-way-perturbation/202..."
      ]
     },
     "execution_count": 4,
     "metadata": {},
     "output_type": "execute_result"
    }
   ],
   "source": [
    "# Load plate file\n",
    "plate_df = pd.read_csv(f\"{github_dir}/{plate_file}\", sep=\"\\t\", header=None)\n",
    "\n",
    "plate_df.columns = [\"plate\", \"manifest_path\"]\n",
    "\n",
    "print(plate_df.shape)\n",
    "plate_df.head(2)"
   ]
  },
  {
   "cell_type": "markdown",
   "id": "ffb077a9-0fdc-41fe-baca-ea93e20277ea",
   "metadata": {},
   "source": [
    "According to IDR instructions, only part of the file name is useful\n",
    "\n",
    "> After removing the leading /uod/idr/filesets/idrNNN-author-description/, you can then download a subfolder using the same commands as above:"
   ]
  },
  {
   "cell_type": "code",
   "execution_count": 5,
   "id": "bbe3348d-f569-45af-a367-6964ba5bafba",
   "metadata": {},
   "outputs": [],
   "source": [
    "# Strip this detail from the plate manifest and add as a column\n",
    "idr_id = \"idr0080-way-perturbation\"\n",
    "strip_id = f\"/uod/idr/filesets/{idr_id}/\"\n",
    "\n",
    "plate_df = plate_df.assign(download_path = plate_df.manifest_path.str.replace(strip_id, \"\"))"
   ]
  },
  {
   "cell_type": "code",
   "execution_count": 6,
   "id": "d1e2d2e2-5dbd-4a9d-8c8d-ca31b154231b",
   "metadata": {},
   "outputs": [
    {
     "data": {
      "text/html": [
       "<div>\n",
       "<style scoped>\n",
       "    .dataframe tbody tr th:only-of-type {\n",
       "        vertical-align: middle;\n",
       "    }\n",
       "\n",
       "    .dataframe tbody tr th {\n",
       "        vertical-align: top;\n",
       "    }\n",
       "\n",
       "    .dataframe thead th {\n",
       "        text-align: right;\n",
       "    }\n",
       "</style>\n",
       "<table border=\"1\" class=\"dataframe\">\n",
       "  <thead>\n",
       "    <tr style=\"text-align: right;\">\n",
       "      <th></th>\n",
       "      <th>plate</th>\n",
       "      <th>manifest_path</th>\n",
       "      <th>download_path</th>\n",
       "    </tr>\n",
       "  </thead>\n",
       "  <tbody>\n",
       "    <tr>\n",
       "      <th>0</th>\n",
       "      <td>SQ00014610</td>\n",
       "      <td>/uod/idr/filesets/idr0080-way-perturbation/202...</td>\n",
       "      <td>20200316-s3/2015_07_01_Cell_Health_Vazquez_Can...</td>\n",
       "    </tr>\n",
       "    <tr>\n",
       "      <th>1</th>\n",
       "      <td>SQ00014611</td>\n",
       "      <td>/uod/idr/filesets/idr0080-way-perturbation/202...</td>\n",
       "      <td>20200316-s3/2015_07_01_Cell_Health_Vazquez_Can...</td>\n",
       "    </tr>\n",
       "  </tbody>\n",
       "</table>\n",
       "</div>"
      ],
      "text/plain": [
       "        plate                                      manifest_path  \\\n",
       "0  SQ00014610  /uod/idr/filesets/idr0080-way-perturbation/202...   \n",
       "1  SQ00014611  /uod/idr/filesets/idr0080-way-perturbation/202...   \n",
       "\n",
       "                                       download_path  \n",
       "0  20200316-s3/2015_07_01_Cell_Health_Vazquez_Can...  \n",
       "1  20200316-s3/2015_07_01_Cell_Health_Vazquez_Can...  "
      ]
     },
     "execution_count": 6,
     "metadata": {},
     "output_type": "execute_result"
    }
   ],
   "source": [
    "# Write to local disk\n",
    "output_file = pathlib.Path(output_dir, plate_file)\n",
    "plate_df.to_csv(output_file, sep=\",\", index=False)\n",
    "\n",
    "plate_df.head(2)"
   ]
  },
  {
   "cell_type": "code",
   "execution_count": 7,
   "id": "66f924c7-c972-46fe-8083-9b7bd6a3f7c0",
   "metadata": {},
   "outputs": [
    {
     "data": {
      "text/plain": [
       "['20200316-s3/2015_07_01_Cell_Health_Vazquez_Cancer_Broad/CRISPR_PILOT_B1/images/SQ00014610__2016-06-16T00_38_35-Measurement2',\n",
       " '20200316-s3/2015_07_01_Cell_Health_Vazquez_Cancer_Broad/CRISPR_PILOT_B1/images/SQ00014611__2016-06-16T02_16_27-Measurement2',\n",
       " '20200316-s3/2015_07_01_Cell_Health_Vazquez_Cancer_Broad/CRISPR_PILOT_B1/images/SQ00014612__2016-06-15T19_44_15-Measurement2',\n",
       " '20200316-s3/2015_07_01_Cell_Health_Vazquez_Cancer_Broad/CRISPR_PILOT_B1/images/SQ00014613__2016-06-16T07_10_56-Measurement1',\n",
       " '20200316-s3/2015_07_01_Cell_Health_Vazquez_Cancer_Broad/CRISPR_PILOT_B1/images/SQ00014614__2016-06-16T08_48_59-Measurement1',\n",
       " '20200316-s3/2015_07_01_Cell_Health_Vazquez_Cancer_Broad/CRISPR_PILOT_B1/images/SQ00014615__2016-06-15T21_22_09-Measurement1',\n",
       " '20200316-s3/2015_07_01_Cell_Health_Vazquez_Cancer_Broad/CRISPR_PILOT_B1/images/SQ00014616__2016-06-15T23_00_48-Measurement1',\n",
       " '20200316-s3/2015_07_01_Cell_Health_Vazquez_Cancer_Broad/CRISPR_PILOT_B1/images/SQ00014617__2016-06-16T03_54_26-Measurement2',\n",
       " '20200316-s3/2015_07_01_Cell_Health_Vazquez_Cancer_Broad/CRISPR_PILOT_B1/images/SQ00014618__2016-06-16T05_32_51-Measurement2',\n",
       " '20200923-illumcorrected/SQ00014610',\n",
       " '20200923-illumcorrected/SQ00014611',\n",
       " '20200923-illumcorrected/SQ00014612',\n",
       " '20200923-illumcorrected/SQ00014613',\n",
       " '20200923-illumcorrected/SQ00014614',\n",
       " '20200923-illumcorrected/SQ00014615',\n",
       " '20200923-illumcorrected/SQ00014616',\n",
       " '20200923-illumcorrected/SQ00014617',\n",
       " '20200923-illumcorrected/SQ00014618']"
      ]
     },
     "execution_count": 7,
     "metadata": {},
     "output_type": "execute_result"
    }
   ],
   "source": [
    "plate_df.download_path.tolist()"
   ]
  }
 ],
 "metadata": {
  "kernelspec": {
   "display_name": "Python 3 (ipykernel)",
   "language": "python",
   "name": "python3"
  },
  "language_info": {
   "codemirror_mode": {
    "name": "ipython",
    "version": 3
   },
   "file_extension": ".py",
   "mimetype": "text/x-python",
   "name": "python",
   "nbconvert_exporter": "python",
   "pygments_lexer": "ipython3",
   "version": "3.9.7"
  }
 },
 "nbformat": 4,
 "nbformat_minor": 5
}
