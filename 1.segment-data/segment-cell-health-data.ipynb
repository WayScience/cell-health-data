{
 "cells": [
  {
   "cell_type": "markdown",
   "metadata": {},
   "source": [
    "# Cell Health Data Segmentor\n",
    "### Find center coordinates for cells from Cell Health data\n",
    "\n",
    "#### Import libraries"
   ]
  },
  {
   "cell_type": "code",
   "execution_count": 1,
   "metadata": {},
   "outputs": [],
   "source": [
    "# from cellpose.io import logger_setup\n",
    "from cellpose import models, core, io, utils\n",
    "\n",
    "import pathlib\n",
    "import pandas as pd\n",
    "\n",
    "import cv2\n",
    "import numpy as np\n",
    "\n",
    "import importlib\n",
    "chs = importlib.import_module(\"cell-health-segmentation\")"
   ]
  },
  {
   "cell_type": "markdown",
   "metadata": {},
   "source": [
    "### Set Up CellPose"
   ]
  },
  {
   "cell_type": "code",
   "execution_count": 2,
   "metadata": {},
   "outputs": [
    {
     "name": "stdout",
     "output_type": "stream",
     "text": [
      ">>> GPU activated? 1\n"
     ]
    }
   ],
   "source": [
    "use_GPU = core.use_gpu()\n",
    "print(\">>> GPU activated? %d\" % use_GPU)\n",
    "# logger_setup();"
   ]
  },
  {
   "cell_type": "markdown",
   "metadata": {},
   "source": [
    "### Segment Cell Health data"
   ]
  },
  {
   "cell_type": "code",
   "execution_count": 3,
   "metadata": {},
   "outputs": [
    {
     "name": "stdout",
     "output_type": "stream",
     "text": [
      "Segmenting plate SQ00014617\n",
      "r07c18f04p01 has already been segmented!\n",
      "r03c16f02p01 has already been segmented!\n",
      "r03c02f04p01 has already been segmented!\n",
      "Segmenting r05c04f08p01-nuc-segmented.tsv\n",
      "Segmenting r05c04f08p01-cyto-segmented.tsv\n",
      "Segmenting r06c19f07p01-nuc-segmented.tsv\n",
      "Segmenting r06c19f07p01-cyto-segmented.tsv\n",
      "Segmenting r16c14f08p01-nuc-segmented.tsv\n",
      "Segmenting r16c14f08p01-cyto-segmented.tsv\n",
      "Segmenting r04c24f06p01-nuc-segmented.tsv\n",
      "Segmenting r04c24f06p01-cyto-segmented.tsv\n",
      "Segmenting r06c19f05p01-nuc-segmented.tsv\n",
      "Segmenting r06c19f05p01-cyto-segmented.tsv\n",
      "Segmenting r08c10f04p01-nuc-segmented.tsv\n",
      "Segmenting r08c10f04p01-cyto-segmented.tsv\n",
      "Segmenting r07c03f05p01-nuc-segmented.tsv\n"
     ]
    },
    {
     "ename": "KeyboardInterrupt",
     "evalue": "",
     "output_type": "error",
     "traceback": [
      "\u001b[0;31m---------------------------------------------------------------------------\u001b[0m",
      "\u001b[0;31mKeyboardInterrupt\u001b[0m                         Traceback (most recent call last)",
      "\u001b[1;32m/home/roshankern/Desktop/Github/cell-health-data/1.segment-data/segment-cell-health-data.ipynb Cell 6\u001b[0m in \u001b[0;36m<cell line: 28>\u001b[0;34m()\u001b[0m\n\u001b[1;32m     <a href='vscode-notebook-cell:/home/roshankern/Desktop/Github/cell-health-data/1.segment-data/segment-cell-health-data.ipynb#ch0000005?line=9'>10</a>\u001b[0m nuclei_model_specs \u001b[39m=\u001b[39m {\n\u001b[1;32m     <a href='vscode-notebook-cell:/home/roshankern/Desktop/Github/cell-health-data/1.segment-data/segment-cell-health-data.ipynb#ch0000005?line=10'>11</a>\u001b[0m     \u001b[39m\"\u001b[39m\u001b[39mmodel_type\u001b[39m\u001b[39m\"\u001b[39m: \u001b[39m\"\u001b[39m\u001b[39mcyto\u001b[39m\u001b[39m\"\u001b[39m,\n\u001b[1;32m     <a href='vscode-notebook-cell:/home/roshankern/Desktop/Github/cell-health-data/1.segment-data/segment-cell-health-data.ipynb#ch0000005?line=11'>12</a>\u001b[0m     \u001b[39m\"\u001b[39m\u001b[39mchannels\u001b[39m\u001b[39m\"\u001b[39m: [\u001b[39m0\u001b[39m, \u001b[39m0\u001b[39m],\n\u001b[0;32m   (...)\u001b[0m\n\u001b[1;32m     <a href='vscode-notebook-cell:/home/roshankern/Desktop/Github/cell-health-data/1.segment-data/segment-cell-health-data.ipynb#ch0000005?line=15'>16</a>\u001b[0m     \u001b[39m\"\u001b[39m\u001b[39mremove_edge_masks\u001b[39m\u001b[39m\"\u001b[39m: \u001b[39mTrue\u001b[39;00m,\n\u001b[1;32m     <a href='vscode-notebook-cell:/home/roshankern/Desktop/Github/cell-health-data/1.segment-data/segment-cell-health-data.ipynb#ch0000005?line=16'>17</a>\u001b[0m }\n\u001b[1;32m     <a href='vscode-notebook-cell:/home/roshankern/Desktop/Github/cell-health-data/1.segment-data/segment-cell-health-data.ipynb#ch0000005?line=18'>19</a>\u001b[0m cytoplasm_model_specs \u001b[39m=\u001b[39m {\n\u001b[1;32m     <a href='vscode-notebook-cell:/home/roshankern/Desktop/Github/cell-health-data/1.segment-data/segment-cell-health-data.ipynb#ch0000005?line=19'>20</a>\u001b[0m     \u001b[39m\"\u001b[39m\u001b[39mmodel_type\u001b[39m\u001b[39m\"\u001b[39m: \u001b[39m\"\u001b[39m\u001b[39mcyto\u001b[39m\u001b[39m\"\u001b[39m,\n\u001b[1;32m     <a href='vscode-notebook-cell:/home/roshankern/Desktop/Github/cell-health-data/1.segment-data/segment-cell-health-data.ipynb#ch0000005?line=20'>21</a>\u001b[0m     \u001b[39m\"\u001b[39m\u001b[39mchannels\u001b[39m\u001b[39m\"\u001b[39m: [\u001b[39m1\u001b[39m, \u001b[39m3\u001b[39m],\n\u001b[0;32m   (...)\u001b[0m\n\u001b[1;32m     <a href='vscode-notebook-cell:/home/roshankern/Desktop/Github/cell-health-data/1.segment-data/segment-cell-health-data.ipynb#ch0000005?line=24'>25</a>\u001b[0m     \u001b[39m\"\u001b[39m\u001b[39mremove_edge_masks\u001b[39m\u001b[39m\"\u001b[39m: \u001b[39mTrue\u001b[39;00m,\n\u001b[1;32m     <a href='vscode-notebook-cell:/home/roshankern/Desktop/Github/cell-health-data/1.segment-data/segment-cell-health-data.ipynb#ch0000005?line=25'>26</a>\u001b[0m }\n\u001b[0;32m---> <a href='vscode-notebook-cell:/home/roshankern/Desktop/Github/cell-health-data/1.segment-data/segment-cell-health-data.ipynb#ch0000005?line=27'>28</a>\u001b[0m cyto \u001b[39m=\u001b[39m chs\u001b[39m.\u001b[39;49msegment_cell_health(load_path, save_path, nuclei_model_specs, cytoplasm_model_specs)\n",
      "File \u001b[0;32m~/Desktop/Github/cell-health-data/1.segment-data/cell-health-segmentation.py:200\u001b[0m, in \u001b[0;36msegment_cell_health\u001b[0;34m(data_path, save_path, nuclei_model_specs, cytoplasm_model_specs)\u001b[0m\n\u001b[1;32m    198\u001b[0m nuc_save_path\u001b[39m.\u001b[39mparents[\u001b[39m0\u001b[39m]\u001b[39m.\u001b[39mmkdir(parents\u001b[39m=\u001b[39m\u001b[39mTrue\u001b[39;00m, exist_ok\u001b[39m=\u001b[39m\u001b[39mTrue\u001b[39;00m)\n\u001b[1;32m    199\u001b[0m nuclei_image \u001b[39m=\u001b[39m io\u001b[39m.\u001b[39mimread(image_file)\n\u001b[0;32m--> 200\u001b[0m nuc_locations \u001b[39m=\u001b[39m get_object_locations(\n\u001b[1;32m    201\u001b[0m     nuclei_image, nuclei_model_specs\n\u001b[1;32m    202\u001b[0m )\n\u001b[1;32m    204\u001b[0m \u001b[39m# segment cytoplasm\u001b[39;00m\n\u001b[1;32m    205\u001b[0m identifier \u001b[39m=\u001b[39m nuc_save_path\u001b[39m.\u001b[39mname\u001b[39m.\u001b[39msplit(\u001b[39m\"\u001b[39m\u001b[39m-\u001b[39m\u001b[39m\"\u001b[39m)[\u001b[39m0\u001b[39m]\n",
      "File \u001b[0;32m~/Desktop/Github/cell-health-data/1.segment-data/cell-health-segmentation.py:60\u001b[0m, in \u001b[0;36mget_object_locations\u001b[0;34m(image, model_specs)\u001b[0m\n\u001b[1;32m     57\u001b[0m objects_data \u001b[39m=\u001b[39m []\n\u001b[1;32m     59\u001b[0m cellpose_model \u001b[39m=\u001b[39m models\u001b[39m.\u001b[39mCellpose(gpu\u001b[39m=\u001b[39m\u001b[39mTrue\u001b[39;00m, model_type\u001b[39m=\u001b[39mmodel_specs[\u001b[39m\"\u001b[39m\u001b[39mmodel_type\u001b[39m\u001b[39m\"\u001b[39m])\n\u001b[0;32m---> 60\u001b[0m masks, flows, styles, diams \u001b[39m=\u001b[39m cellpose_model\u001b[39m.\u001b[39;49meval(\n\u001b[1;32m     61\u001b[0m     image,\n\u001b[1;32m     62\u001b[0m     diameter\u001b[39m=\u001b[39;49mmodel_specs[\u001b[39m\"\u001b[39;49m\u001b[39mdiameter\u001b[39;49m\u001b[39m\"\u001b[39;49m],\n\u001b[1;32m     63\u001b[0m     channels\u001b[39m=\u001b[39;49mmodel_specs[\u001b[39m\"\u001b[39;49m\u001b[39mchannels\u001b[39;49m\u001b[39m\"\u001b[39;49m],\n\u001b[1;32m     64\u001b[0m     flow_threshold\u001b[39m=\u001b[39;49mmodel_specs[\u001b[39m\"\u001b[39;49m\u001b[39mflow_threshold\u001b[39;49m\u001b[39m\"\u001b[39;49m],\n\u001b[1;32m     65\u001b[0m     cellprob_threshold\u001b[39m=\u001b[39;49mmodel_specs[\u001b[39m\"\u001b[39;49m\u001b[39mcellprob_threshold\u001b[39;49m\u001b[39m\"\u001b[39;49m],\n\u001b[1;32m     66\u001b[0m )\n\u001b[1;32m     67\u001b[0m \u001b[39m# remove cell masks if they are on the edge\u001b[39;00m\n\u001b[1;32m     68\u001b[0m \u001b[39mif\u001b[39;00m model_specs[\u001b[39m\"\u001b[39m\u001b[39mremove_edge_masks\u001b[39m\u001b[39m\"\u001b[39m]:\n",
      "File \u001b[0;32m~/anaconda3/envs/1.segment-data-cell-health/lib/python3.8/site-packages/cellpose/models.py:238\u001b[0m, in \u001b[0;36mCellpose.eval\u001b[0;34m(self, x, batch_size, channels, channel_axis, z_axis, invert, normalize, diameter, do_3D, anisotropy, net_avg, augment, tile, tile_overlap, resample, interp, flow_threshold, cellprob_threshold, min_size, stitch_threshold, rescale, progress, model_loaded)\u001b[0m\n\u001b[1;32m    236\u001b[0m tic \u001b[39m=\u001b[39m time\u001b[39m.\u001b[39mtime()\n\u001b[1;32m    237\u001b[0m models_logger\u001b[39m.\u001b[39minfo(\u001b[39m'\u001b[39m\u001b[39m~~~ FINDING MASKS ~~~\u001b[39m\u001b[39m'\u001b[39m)\n\u001b[0;32m--> 238\u001b[0m masks, flows, styles \u001b[39m=\u001b[39m \u001b[39mself\u001b[39;49m\u001b[39m.\u001b[39;49mcp\u001b[39m.\u001b[39;49meval(x, \n\u001b[1;32m    239\u001b[0m                                     batch_size\u001b[39m=\u001b[39;49mbatch_size, \n\u001b[1;32m    240\u001b[0m                                     invert\u001b[39m=\u001b[39;49minvert, \n\u001b[1;32m    241\u001b[0m                                     normalize\u001b[39m=\u001b[39;49mnormalize,\n\u001b[1;32m    242\u001b[0m                                     diameter\u001b[39m=\u001b[39;49mdiameter,\n\u001b[1;32m    243\u001b[0m                                     rescale\u001b[39m=\u001b[39;49mrescale, \n\u001b[1;32m    244\u001b[0m                                     anisotropy\u001b[39m=\u001b[39;49manisotropy, \n\u001b[1;32m    245\u001b[0m                                     channels\u001b[39m=\u001b[39;49mchannels,\n\u001b[1;32m    246\u001b[0m                                     channel_axis\u001b[39m=\u001b[39;49mchannel_axis, \n\u001b[1;32m    247\u001b[0m                                     z_axis\u001b[39m=\u001b[39;49mz_axis,\n\u001b[1;32m    248\u001b[0m                                     augment\u001b[39m=\u001b[39;49maugment, \n\u001b[1;32m    249\u001b[0m                                     tile\u001b[39m=\u001b[39;49mtile, \n\u001b[1;32m    250\u001b[0m                                     do_3D\u001b[39m=\u001b[39;49mdo_3D, \n\u001b[1;32m    251\u001b[0m                                     net_avg\u001b[39m=\u001b[39;49mnet_avg, \n\u001b[1;32m    252\u001b[0m                                     progress\u001b[39m=\u001b[39;49mprogress,\n\u001b[1;32m    253\u001b[0m                                     tile_overlap\u001b[39m=\u001b[39;49mtile_overlap,\n\u001b[1;32m    254\u001b[0m                                     resample\u001b[39m=\u001b[39;49mresample,\n\u001b[1;32m    255\u001b[0m                                     interp\u001b[39m=\u001b[39;49minterp,\n\u001b[1;32m    256\u001b[0m                                     flow_threshold\u001b[39m=\u001b[39;49mflow_threshold, \n\u001b[1;32m    257\u001b[0m                                     cellprob_threshold\u001b[39m=\u001b[39;49mcellprob_threshold,\n\u001b[1;32m    258\u001b[0m                                     min_size\u001b[39m=\u001b[39;49mmin_size, \n\u001b[1;32m    259\u001b[0m                                     stitch_threshold\u001b[39m=\u001b[39;49mstitch_threshold,\n\u001b[1;32m    260\u001b[0m                                     model_loaded\u001b[39m=\u001b[39;49mmodel_loaded)\n\u001b[1;32m    261\u001b[0m models_logger\u001b[39m.\u001b[39minfo(\u001b[39m'\u001b[39m\u001b[39m>>>> TOTAL TIME \u001b[39m\u001b[39m%0.2f\u001b[39;00m\u001b[39m sec\u001b[39m\u001b[39m'\u001b[39m\u001b[39m%\u001b[39m(time\u001b[39m.\u001b[39mtime()\u001b[39m-\u001b[39mtic0))\n\u001b[1;32m    263\u001b[0m \u001b[39mreturn\u001b[39;00m masks, flows, styles, diams\n",
      "File \u001b[0;32m~/anaconda3/envs/1.segment-data-cell-health/lib/python3.8/site-packages/cellpose/models.py:551\u001b[0m, in \u001b[0;36mCellposeModel.eval\u001b[0;34m(self, x, batch_size, channels, channel_axis, z_axis, normalize, invert, rescale, diameter, do_3D, anisotropy, net_avg, augment, tile, tile_overlap, resample, interp, flow_threshold, cellprob_threshold, compute_masks, min_size, stitch_threshold, progress, loop_run, model_loaded)\u001b[0m\n\u001b[1;32m    548\u001b[0m     diameter \u001b[39m=\u001b[39m \u001b[39mself\u001b[39m\u001b[39m.\u001b[39mdiam_labels\n\u001b[1;32m    549\u001b[0m     rescale \u001b[39m=\u001b[39m \u001b[39mself\u001b[39m\u001b[39m.\u001b[39mdiam_mean \u001b[39m/\u001b[39m diameter\n\u001b[0;32m--> 551\u001b[0m masks, styles, dP, cellprob, p \u001b[39m=\u001b[39m \u001b[39mself\u001b[39;49m\u001b[39m.\u001b[39;49m_run_cp(x, \n\u001b[1;32m    552\u001b[0m                                               compute_masks\u001b[39m=\u001b[39;49mcompute_masks,\n\u001b[1;32m    553\u001b[0m                                               normalize\u001b[39m=\u001b[39;49mnormalize,\n\u001b[1;32m    554\u001b[0m                                               invert\u001b[39m=\u001b[39;49minvert,\n\u001b[1;32m    555\u001b[0m                                               rescale\u001b[39m=\u001b[39;49mrescale, \n\u001b[1;32m    556\u001b[0m                                               net_avg\u001b[39m=\u001b[39;49mnet_avg, \n\u001b[1;32m    557\u001b[0m                                               resample\u001b[39m=\u001b[39;49mresample,\n\u001b[1;32m    558\u001b[0m                                               augment\u001b[39m=\u001b[39;49maugment, \n\u001b[1;32m    559\u001b[0m                                               tile\u001b[39m=\u001b[39;49mtile, \n\u001b[1;32m    560\u001b[0m                                               tile_overlap\u001b[39m=\u001b[39;49mtile_overlap,\n\u001b[1;32m    561\u001b[0m                                               flow_threshold\u001b[39m=\u001b[39;49mflow_threshold,\n\u001b[1;32m    562\u001b[0m                                               cellprob_threshold\u001b[39m=\u001b[39;49mcellprob_threshold, \n\u001b[1;32m    563\u001b[0m                                               interp\u001b[39m=\u001b[39;49minterp,\n\u001b[1;32m    564\u001b[0m                                               min_size\u001b[39m=\u001b[39;49mmin_size, \n\u001b[1;32m    565\u001b[0m                                               do_3D\u001b[39m=\u001b[39;49mdo_3D, \n\u001b[1;32m    566\u001b[0m                                               anisotropy\u001b[39m=\u001b[39;49manisotropy,\n\u001b[1;32m    567\u001b[0m                                               stitch_threshold\u001b[39m=\u001b[39;49mstitch_threshold,\n\u001b[1;32m    568\u001b[0m                                               )\n\u001b[1;32m    570\u001b[0m flows \u001b[39m=\u001b[39m [plot\u001b[39m.\u001b[39mdx_to_circ(dP), dP, cellprob, p]\n\u001b[1;32m    571\u001b[0m \u001b[39mreturn\u001b[39;00m masks, flows, styles\n",
      "File \u001b[0;32m~/anaconda3/envs/1.segment-data-cell-health/lib/python3.8/site-packages/cellpose/models.py:615\u001b[0m, in \u001b[0;36mCellposeModel._run_cp\u001b[0;34m(self, x, compute_masks, normalize, invert, rescale, net_avg, resample, augment, tile, tile_overlap, cellprob_threshold, flow_threshold, min_size, interp, anisotropy, do_3D, stitch_threshold)\u001b[0m\n\u001b[1;32m    613\u001b[0m \u001b[39mif\u001b[39;00m rescale \u001b[39m!=\u001b[39m \u001b[39m1.0\u001b[39m:\n\u001b[1;32m    614\u001b[0m     img \u001b[39m=\u001b[39m transforms\u001b[39m.\u001b[39mresize_image(img, rsz\u001b[39m=\u001b[39mrescale)\n\u001b[0;32m--> 615\u001b[0m yf, style \u001b[39m=\u001b[39m \u001b[39mself\u001b[39;49m\u001b[39m.\u001b[39;49m_run_nets(img, net_avg\u001b[39m=\u001b[39;49mnet_avg,\n\u001b[1;32m    616\u001b[0m                            augment\u001b[39m=\u001b[39;49maugment, tile\u001b[39m=\u001b[39;49mtile,\n\u001b[1;32m    617\u001b[0m                            tile_overlap\u001b[39m=\u001b[39;49mtile_overlap)\n\u001b[1;32m    618\u001b[0m \u001b[39mif\u001b[39;00m resample:\n\u001b[1;32m    619\u001b[0m     yf \u001b[39m=\u001b[39m transforms\u001b[39m.\u001b[39mresize_image(yf, shape[\u001b[39m1\u001b[39m], shape[\u001b[39m2\u001b[39m])\n",
      "File \u001b[0;32m~/anaconda3/envs/1.segment-data-cell-health/lib/python3.8/site-packages/cellpose/core.py:345\u001b[0m, in \u001b[0;36mUnetModel._run_nets\u001b[0;34m(self, img, net_avg, augment, tile, tile_overlap, bsize, return_conv, progress)\u001b[0m\n\u001b[1;32m    309\u001b[0m \u001b[39m\"\"\" run network (if more than one, loop over networks and average results\u001b[39;00m\n\u001b[1;32m    310\u001b[0m \n\u001b[1;32m    311\u001b[0m \u001b[39mParameters\u001b[39;00m\n\u001b[0;32m   (...)\u001b[0m\n\u001b[1;32m    342\u001b[0m \n\u001b[1;32m    343\u001b[0m \u001b[39m\"\"\"\u001b[39;00m\n\u001b[1;32m    344\u001b[0m \u001b[39mif\u001b[39;00m \u001b[39misinstance\u001b[39m(\u001b[39mself\u001b[39m\u001b[39m.\u001b[39mpretrained_model, \u001b[39mstr\u001b[39m) \u001b[39mor\u001b[39;00m \u001b[39mnot\u001b[39;00m net_avg:  \n\u001b[0;32m--> 345\u001b[0m     y, style \u001b[39m=\u001b[39m \u001b[39mself\u001b[39;49m\u001b[39m.\u001b[39;49m_run_net(img, augment\u001b[39m=\u001b[39;49maugment, tile\u001b[39m=\u001b[39;49mtile, tile_overlap\u001b[39m=\u001b[39;49mtile_overlap,\n\u001b[1;32m    346\u001b[0m                              bsize\u001b[39m=\u001b[39;49mbsize, return_conv\u001b[39m=\u001b[39;49mreturn_conv)\n\u001b[1;32m    347\u001b[0m \u001b[39melse\u001b[39;00m:  \n\u001b[1;32m    348\u001b[0m     \u001b[39mfor\u001b[39;00m j \u001b[39min\u001b[39;00m \u001b[39mrange\u001b[39m(\u001b[39mlen\u001b[39m(\u001b[39mself\u001b[39m\u001b[39m.\u001b[39mpretrained_model)):\n",
      "File \u001b[0;32m~/anaconda3/envs/1.segment-data-cell-health/lib/python3.8/site-packages/cellpose/core.py:424\u001b[0m, in \u001b[0;36mUnetModel._run_net\u001b[0;34m(self, imgs, augment, tile, tile_overlap, bsize, return_conv)\u001b[0m\n\u001b[1;32m    422\u001b[0m \u001b[39m# run network\u001b[39;00m\n\u001b[1;32m    423\u001b[0m \u001b[39mif\u001b[39;00m tile \u001b[39mor\u001b[39;00m augment \u001b[39mor\u001b[39;00m imgs\u001b[39m.\u001b[39mndim\u001b[39m==\u001b[39m\u001b[39m4\u001b[39m:\n\u001b[0;32m--> 424\u001b[0m     y, style \u001b[39m=\u001b[39m \u001b[39mself\u001b[39;49m\u001b[39m.\u001b[39;49m_run_tiled(imgs, augment\u001b[39m=\u001b[39;49maugment, bsize\u001b[39m=\u001b[39;49mbsize, \n\u001b[1;32m    425\u001b[0m                               tile_overlap\u001b[39m=\u001b[39;49mtile_overlap, \n\u001b[1;32m    426\u001b[0m                               return_conv\u001b[39m=\u001b[39;49mreturn_conv)\n\u001b[1;32m    427\u001b[0m \u001b[39melse\u001b[39;00m:\n\u001b[1;32m    428\u001b[0m     imgs \u001b[39m=\u001b[39m np\u001b[39m.\u001b[39mexpand_dims(imgs, axis\u001b[39m=\u001b[39m\u001b[39m0\u001b[39m)\n",
      "File \u001b[0;32m~/anaconda3/envs/1.segment-data-cell-health/lib/python3.8/site-packages/cellpose/core.py:525\u001b[0m, in \u001b[0;36mUnetModel._run_tiled\u001b[0;34m(self, imgi, augment, bsize, tile_overlap, return_conv)\u001b[0m\n\u001b[1;32m    523\u001b[0m \u001b[39mfor\u001b[39;00m k \u001b[39min\u001b[39;00m \u001b[39mrange\u001b[39m(niter):\n\u001b[1;32m    524\u001b[0m     irange \u001b[39m=\u001b[39m np\u001b[39m.\u001b[39marange(batch_size\u001b[39m*\u001b[39mk, \u001b[39mmin\u001b[39m(IMG\u001b[39m.\u001b[39mshape[\u001b[39m0\u001b[39m], batch_size\u001b[39m*\u001b[39mk\u001b[39m+\u001b[39mbatch_size))\n\u001b[0;32m--> 525\u001b[0m     y0, style \u001b[39m=\u001b[39m \u001b[39mself\u001b[39;49m\u001b[39m.\u001b[39;49mnetwork(IMG[irange], return_conv\u001b[39m=\u001b[39;49mreturn_conv)\n\u001b[1;32m    526\u001b[0m     y[irange] \u001b[39m=\u001b[39m y0\u001b[39m.\u001b[39mreshape(\u001b[39mlen\u001b[39m(irange), y0\u001b[39m.\u001b[39mshape[\u001b[39m-\u001b[39m\u001b[39m3\u001b[39m], y0\u001b[39m.\u001b[39mshape[\u001b[39m-\u001b[39m\u001b[39m2\u001b[39m], y0\u001b[39m.\u001b[39mshape[\u001b[39m-\u001b[39m\u001b[39m1\u001b[39m])\n\u001b[1;32m    527\u001b[0m     \u001b[39mif\u001b[39;00m k\u001b[39m==\u001b[39m\u001b[39m0\u001b[39m:\n",
      "File \u001b[0;32m~/anaconda3/envs/1.segment-data-cell-health/lib/python3.8/site-packages/cellpose/core.py:299\u001b[0m, in \u001b[0;36mUnetModel.network\u001b[0;34m(self, x, return_conv)\u001b[0m\n\u001b[1;32m    297\u001b[0m     y, style \u001b[39m=\u001b[39m \u001b[39mself\u001b[39m\u001b[39m.\u001b[39mnet(X)\n\u001b[1;32m    298\u001b[0m \u001b[39mdel\u001b[39;00m X\n\u001b[0;32m--> 299\u001b[0m y \u001b[39m=\u001b[39m \u001b[39mself\u001b[39;49m\u001b[39m.\u001b[39;49m_from_device(y)\n\u001b[1;32m    300\u001b[0m style \u001b[39m=\u001b[39m \u001b[39mself\u001b[39m\u001b[39m.\u001b[39m_from_device(style)\n\u001b[1;32m    301\u001b[0m \u001b[39mif\u001b[39;00m return_conv:\n",
      "File \u001b[0;32m~/anaconda3/envs/1.segment-data-cell-health/lib/python3.8/site-packages/cellpose/core.py:287\u001b[0m, in \u001b[0;36mUnetModel._from_device\u001b[0;34m(self, X)\u001b[0m\n\u001b[1;32m    286\u001b[0m \u001b[39mdef\u001b[39;00m \u001b[39m_from_device\u001b[39m(\u001b[39mself\u001b[39m, X):\n\u001b[0;32m--> 287\u001b[0m     x \u001b[39m=\u001b[39m X\u001b[39m.\u001b[39;49mdetach()\u001b[39m.\u001b[39;49mcpu()\u001b[39m.\u001b[39mnumpy()\n\u001b[1;32m    288\u001b[0m     \u001b[39mreturn\u001b[39;00m x\n",
      "\u001b[0;31mKeyboardInterrupt\u001b[0m: "
     ]
    }
   ],
   "source": [
    "# data_path needs to reflect the location of illumination corrected images after finishing 0.image-download\n",
    "load_path = pathlib.Path(\n",
    "    \"/media/roshankern/63af2010-c376-459e-a56e-576b170133b6/data/cell-health/\"\n",
    ")\n",
    "# save_path needs to reflect the desired location of the segmentation tsv files\n",
    "save_path = pathlib.Path(\n",
    "    \"/media/roshankern/63af2010-c376-459e-a56e-576b170133b6/data/cell-health-segmented/\"\n",
    ")\n",
    "\n",
    "nuclei_model_specs = {\n",
    "    \"model_type\": \"cyto\",\n",
    "    \"channels\": [0, 0],\n",
    "    \"diameter\": 80,\n",
    "    \"flow_threshold\": 0,\n",
    "    \"cellprob_threshold\": 0,\n",
    "    \"remove_edge_masks\": True,\n",
    "}\n",
    "\n",
    "cytoplasm_model_specs = {\n",
    "    \"model_type\": \"cyto\",\n",
    "    \"channels\": [1, 3],\n",
    "    \"diameter\": 0,\n",
    "    \"flow_threshold\": 0,\n",
    "    \"cellprob_threshold\": 0.4,\n",
    "    \"remove_edge_masks\": True,\n",
    "}\n",
    "\n",
    "cyto = chs.segment_cell_health(load_path, save_path, nuclei_model_specs, cytoplasm_model_specs)"
   ]
  }
 ],
 "metadata": {
  "kernelspec": {
   "display_name": "Python 3.8.13 ('1.segment-data-cell-health')",
   "language": "python",
   "name": "python3"
  },
  "language_info": {
   "codemirror_mode": {
    "name": "ipython",
    "version": 3
   },
   "file_extension": ".py",
   "mimetype": "text/x-python",
   "name": "python",
   "nbconvert_exporter": "python",
   "pygments_lexer": "ipython3",
   "version": "3.8.13"
  },
  "orig_nbformat": 4,
  "vscode": {
   "interpreter": {
    "hash": "07e9f893e05fafa9cc2f8f807a06766daf8178bf7abbc98ff4ede1a2416403f1"
   }
  }
 },
 "nbformat": 4,
 "nbformat_minor": 2
}
