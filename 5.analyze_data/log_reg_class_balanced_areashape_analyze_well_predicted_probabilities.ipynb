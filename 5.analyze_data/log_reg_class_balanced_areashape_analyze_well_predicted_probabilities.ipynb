{
 "cells": [
  {
   "cell_type": "markdown",
   "metadata": {
    "jukit_cell_id": "ORawNFJ1qn"
   },
   "source": [
    "# Compare Well Treatements\n",
    "We compare the treatments in each well using cell treatment probabilities and negative control probabilities for each phenotype.\n",
    "This comparison is accomplished with a KS Test."
   ]
  },
  {
   "cell_type": "code",
   "execution_count": 1,
   "metadata": {
    "execution": {
     "iopub.execute_input": "2023-12-11T19:10:30.715081Z",
     "iopub.status.busy": "2023-12-11T19:10:30.714981Z",
     "iopub.status.idle": "2023-12-11T19:10:31.078477Z",
     "shell.execute_reply": "2023-12-11T19:10:31.078020Z"
    },
    "jukit_cell_id": "551uyQMpHm"
   },
   "outputs": [
    {
     "name": "stderr",
     "output_type": "stream",
     "text": [
      "/home/camo/mambaforge-pypy3/envs/health-comp/lib/python3.9/site-packages/scipy/__init__.py:146: UserWarning: A NumPy version >=1.17.3 and <1.25.0 is required for this version of SciPy (detected version 1.26.2\n",
      "  warnings.warn(f\"A NumPy version >={np_minversion} and <{np_maxversion}\"\n"
     ]
    }
   ],
   "source": [
    "import pathlib\n",
    "import sys\n",
    "\n",
    "import pandas as pd\n",
    "from scipy.stats import kstest\n",
    "\n",
    "# Import significance test utils\n",
    "sys.path.append(\"utils\")\n",
    "import well_significance_testing as sig_test"
   ]
  },
  {
   "cell_type": "markdown",
   "metadata": {
    "jukit_cell_id": "43KpvqBB8Z"
   },
   "source": [
    "## Find the root of the git repo on the host system"
   ]
  },
  {
   "cell_type": "code",
   "execution_count": 2,
   "metadata": {
    "execution": {
     "iopub.execute_input": "2023-12-11T19:10:31.111400Z",
     "iopub.status.busy": "2023-12-11T19:10:31.111105Z",
     "iopub.status.idle": "2023-12-11T19:10:31.114302Z",
     "shell.execute_reply": "2023-12-11T19:10:31.113928Z"
    },
    "jukit_cell_id": "2h8CHkah8U"
   },
   "outputs": [],
   "source": [
    "# Get the current working directory\n",
    "cwd = pathlib.Path.cwd()\n",
    "\n",
    "if (cwd / \".git\").is_dir():\n",
    "    root_dir = cwd\n",
    "\n",
    "else:\n",
    "    root_dir = None\n",
    "    for parent in cwd.parents:\n",
    "        if (parent / \".git\").is_dir():\n",
    "            root_dir = parent\n",
    "            break\n",
    "\n",
    "# Check if a Git root directory was found\n",
    "if root_dir is None:\n",
    "    raise FileNotFoundError(\"No Git root directory found.\")"
   ]
  },
  {
   "cell_type": "markdown",
   "metadata": {
    "jukit_cell_id": "iRHc4niHdx"
   },
   "source": [
    "## Input and Output Paths"
   ]
  },
  {
   "cell_type": "code",
   "execution_count": 3,
   "metadata": {
    "execution": {
     "iopub.execute_input": "2023-12-11T19:10:31.116120Z",
     "iopub.status.busy": "2023-12-11T19:10:31.115927Z",
     "iopub.status.idle": "2023-12-11T19:11:27.245014Z",
     "shell.execute_reply": "2023-12-11T19:11:27.244500Z"
    },
    "jukit_cell_id": "zDRghRntC5"
   },
   "outputs": [],
   "source": [
    "# Input paths\n",
    "big_drive_path = f\"{root_dir}/big_drive\"\n",
    "sqlite_data_path = f\"{big_drive_path}/sc_data\"\n",
    "\n",
    "# Probability data path\n",
    "proba_path = pathlib.Path(f\"{big_drive_path}/cameron-request__cell-health-plate-classifications/multi_class_models\")\n",
    "\n",
    "# Probability data for each type of model\n",
    "final_proba_path = proba_path / \"final__CP_areashape_only__balanced\"\n",
    "shuf_proba_path = proba_path / \"shuffled_baseline__CP_areashape_only__balanced\"\n",
    "\n",
    "# Platemap metadata\n",
    "platemapdf = pd.read_csv(f\"{root_dir}/0.image-download/manifest/idr0080-screenA-annotation.csv\")\n",
    "\n",
    "# Load probability data for final and shuffled models\n",
    "final_probadf = pd.concat([pd.read_csv(data_file, index_col=0) for data_file in list(final_proba_path.glob(\"*.csv.gz\"))])\n",
    "shuf_probadf = pd.concat([pd.read_csv(data_file, index_col=0) for data_file in list(shuf_proba_path.glob(\"*.csv.gz\"))])\n",
    "\n",
    "# Output paths\n",
    "comparison_results_output_filename = \"class_balanced_well_log_reg_areashape_greg_model_comparisons.parquet\"\n",
    "output_path = pathlib.Path(\"class_balanced_well_log_reg_comparison_results\")\n",
    "output_path.mkdir(parents=True, exist_ok=True)"
   ]
  },
  {
   "cell_type": "markdown",
   "metadata": {
    "jukit_cell_id": "2Vtk5kBCNx"
   },
   "source": [
    "## Combine shuffled and final model data"
   ]
  },
  {
   "cell_type": "code",
   "execution_count": 4,
   "metadata": {
    "execution": {
     "iopub.execute_input": "2023-12-11T19:11:27.247332Z",
     "iopub.status.busy": "2023-12-11T19:11:27.247167Z",
     "iopub.status.idle": "2023-12-11T19:11:28.156501Z",
     "shell.execute_reply": "2023-12-11T19:11:28.156118Z"
    },
    "jukit_cell_id": "bPRxHUsBhe"
   },
   "outputs": [],
   "source": [
    "# Define the type of model\n",
    "final_probadf[\"Metadata_Model_Type\"] = \"final\"\n",
    "shuf_probadf[\"Metadata_Model_Type\"] = \"shuffled\"\n",
    "\n",
    "probadf = pd.concat([final_probadf, shuf_probadf])"
   ]
  },
  {
   "cell_type": "markdown",
   "metadata": {
    "jukit_cell_id": "yIaDH5yRLS"
   },
   "source": [
    "## Merge the platemap and probability data"
   ]
  },
  {
   "cell_type": "code",
   "execution_count": 5,
   "metadata": {
    "execution": {
     "iopub.execute_input": "2023-12-11T19:11:28.158568Z",
     "iopub.status.busy": "2023-12-11T19:11:28.158431Z",
     "iopub.status.idle": "2023-12-11T19:11:33.649704Z",
     "shell.execute_reply": "2023-12-11T19:11:33.649278Z"
    },
    "jukit_cell_id": "8S77qMpvPC"
   },
   "outputs": [],
   "source": [
    "platemap_metacols = [\"Plate\", \"Well\"]\n",
    "platemap_cols = [\"Reagent Identifier\", \"Characteristics [Cell Line]\", \"Control Type\"]\n",
    "probadf = probadf.merge(platemapdf[platemap_cols + platemap_metacols], how=\"inner\", left_on=[\"Metadata_Plate\", \"Metadata_Well\"], right_on=platemap_metacols)\n",
    "\n",
    "# Drop Redundant columns from merge\n",
    "probadf.drop(columns=platemap_metacols, inplace=True)"
   ]
  },
  {
   "cell_type": "markdown",
   "metadata": {
    "jukit_cell_id": "ebeqz7HkTf"
   },
   "source": [
    "## Define phenotype and columns to group by"
   ]
  },
  {
   "cell_type": "code",
   "execution_count": 6,
   "metadata": {
    "execution": {
     "iopub.execute_input": "2023-12-11T19:11:33.651727Z",
     "iopub.status.busy": "2023-12-11T19:11:33.651608Z",
     "iopub.status.idle": "2023-12-11T19:11:33.916141Z",
     "shell.execute_reply": "2023-12-11T19:11:33.915743Z"
    },
    "jukit_cell_id": "HizOUQcA3j"
   },
   "outputs": [],
   "source": [
    "phenotype_cols = probadf.loc[:, \"ADCCM\":\"SmallIrregular\"].columns.tolist()\n",
    "\n",
    "filt_cols = ['Metadata_Plate', 'Reagent Identifier', 'Metadata_Model_Type', 'Characteristics [Cell Line]', 'Metadata_Well']"
   ]
  },
  {
   "cell_type": "markdown",
   "metadata": {
    "jukit_cell_id": "FFPA3sxKJz"
   },
   "source": [
    "## KS test wrapper function"
   ]
  },
  {
   "cell_type": "code",
   "execution_count": 7,
   "metadata": {
    "execution": {
     "iopub.execute_input": "2023-12-11T19:11:33.917818Z",
     "iopub.status.busy": "2023-12-11T19:11:33.917593Z",
     "iopub.status.idle": "2023-12-11T19:11:33.920056Z",
     "shell.execute_reply": "2023-12-11T19:11:33.919805Z"
    },
    "jukit_cell_id": "nSE3TR3l3H"
   },
   "outputs": [],
   "source": [
    "def perform_ks_test(_dmso_probs, _treatment_probs):\n",
    "    \"\"\"\n",
    "    Parameters\n",
    "    ----------\n",
    "    _dmso_probs: pandas.Series\n",
    "        The down-sampled predicted probilities of DMSO for a treatment type and phenotype.\n",
    "\n",
    "    _treatment_probs: pandas.Series\n",
    "        The predicted probabilities of the treatment.\n",
    "\n",
    "    Returns\n",
    "    -------\n",
    "    A zipped object which represents can be referenced by p_value and a comparison_metric_value, which are later on represented in the resulting dictionary.\n",
    "    \"\"\"\n",
    "    stat, p_value = kstest(_dmso_probs, _treatment_probs, alternative=\"two-sided\")\n",
    "    return zip([\"comparison_metric_value\", \"p_value\"], [stat, p_value])"
   ]
  },
  {
   "cell_type": "markdown",
   "metadata": {
    "jukit_cell_id": "6hHxeDBTNc"
   },
   "source": [
    "## Defining tests and aggregation metric names"
   ]
  },
  {
   "cell_type": "code",
   "execution_count": 8,
   "metadata": {
    "execution": {
     "iopub.execute_input": "2023-12-11T19:11:33.921416Z",
     "iopub.status.busy": "2023-12-11T19:11:33.921311Z",
     "iopub.status.idle": "2023-12-11T19:11:33.923284Z",
     "shell.execute_reply": "2023-12-11T19:11:33.923013Z"
    },
    "jukit_cell_id": "19p1I4wojL"
   },
   "outputs": [],
   "source": [
    "# Create a dictionary where the keys represent the name of the comparison or test, and the values are dictionaries\n",
    "# the subdictionaries refer to the wrapper function for creating the comparison, and the metric name of the comparison being made\n",
    "comp_functions = {\"ks_test\":  # Name of the test to perform\n",
    "                  {\"statistical_test_function\": perform_ks_test,  # The function for making comparisons\n",
    "                   \"comparison_metric\": \"ks_statistic\"}  # The name of the comparison metric\n",
    "                  }"
   ]
  },
  {
   "cell_type": "markdown",
   "metadata": {
    "jukit_cell_id": "3psHCDRycQ"
   },
   "source": [
    "## Compare treatments and negative controls"
   ]
  },
  {
   "cell_type": "code",
   "execution_count": 9,
   "metadata": {
    "execution": {
     "iopub.execute_input": "2023-12-11T19:11:33.924598Z",
     "iopub.status.busy": "2023-12-11T19:11:33.924487Z",
     "iopub.status.idle": "2023-12-11T19:35:15.504277Z",
     "shell.execute_reply": "2023-12-11T19:35:15.503844Z"
    },
    "jukit_cell_id": "9pgP4YdWo4"
   },
   "outputs": [],
   "source": [
    "treatments = sig_test.get_treatment_comparison(comp_functions,\n",
    "                                               probadf.loc[~probadf[\"Control Type\"].isin([\"negative\", \"no reagent\"])],\n",
    "                                               probadf.loc[probadf[\"Control Type\"] == \"negative\"],\n",
    "                                               phenotype_cols,\n",
    "                                               filt_cols\n",
    "                                               )"
   ]
  },
  {
   "cell_type": "markdown",
   "metadata": {
    "jukit_cell_id": "D4XcyaYl7m"
   },
   "source": [
    "## Save the output of the treatment"
   ]
  },
  {
   "cell_type": "code",
   "execution_count": 10,
   "metadata": {
    "execution": {
     "iopub.execute_input": "2023-12-11T19:35:15.506366Z",
     "iopub.status.busy": "2023-12-11T19:35:15.506249Z",
     "iopub.status.idle": "2023-12-11T19:35:15.583508Z",
     "shell.execute_reply": "2023-12-11T19:35:15.583091Z"
    },
    "jukit_cell_id": "KcqfcwXHtJ"
   },
   "outputs": [],
   "source": [
    "treatments = pd.DataFrame(treatments)\n",
    "treatments.to_parquet(output_path / comparison_results_output_filename)"
   ]
  }
 ],
 "metadata": {
  "anaconda-cloud": {},
  "kernelspec": {
   "display_name": "Python 3 (ipykernel)",
   "language": "python",
   "name": "python3"
  },
  "language_info": {
   "codemirror_mode": {
    "name": "ipython",
    "version": 3
   },
   "file_extension": ".py",
   "mimetype": "text/x-python",
   "name": "python",
   "nbconvert_exporter": "python",
   "pygments_lexer": "ipython3",
   "version": "3.9.18"
  }
 },
 "nbformat": 4,
 "nbformat_minor": 4
}
