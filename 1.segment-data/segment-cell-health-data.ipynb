{
 "cells": [
  {
   "cell_type": "markdown",
   "metadata": {},
   "source": [
    "# Cell Health Data Segmentor\n",
    "### Find center coordinates for cells from Cell Health data\n",
    "\n",
    "#### Import libraries"
   ]
  },
  {
   "cell_type": "code",
   "execution_count": 82,
   "metadata": {},
   "outputs": [],
   "source": [
    "#from cellpose.io import logger_setup\n",
    "from cellpose import models, core, io, utils\n",
    "\n",
    "import pathlib\n",
    "import pandas as pd\n",
    "\n",
    "import cv2\n",
    "import numpy as np"
   ]
  },
  {
   "cell_type": "markdown",
   "metadata": {},
   "source": [
    "### Set Up CellPose"
   ]
  },
  {
   "cell_type": "code",
   "execution_count": 83,
   "metadata": {},
   "outputs": [
    {
     "name": "stdout",
     "output_type": "stream",
     "text": [
      ">>> GPU activated? 1\n"
     ]
    }
   ],
   "source": [
    "use_GPU = core.use_gpu()\n",
    "print('>>> GPU activated? %d'%use_GPU)\n",
    "#logger_setup();"
   ]
  },
  {
   "cell_type": "markdown",
   "metadata": {},
   "source": [
    "### Helper functions for segmenting Cell Health data"
   ]
  },
  {
   "cell_type": "code",
   "execution_count": 84,
   "metadata": {},
   "outputs": [],
   "source": [
    "def overlay_channels(current_image: str, current_dir: pathlib.Path):\n",
    "    \n",
    "    # load all channel images\n",
    "    channel_paths = []\n",
    "    channel_images = []\n",
    "    for image_file in current_dir.iterdir():\n",
    "        if current_image in image_file.name:\n",
    "            channel_paths.append(image_file)\n",
    "    channel_paths = sorted(channel_paths)\n",
    "    for channel_path in channel_paths:\n",
    "        channel_image = np.array(cv2.imread(str(channel_path), 0))\n",
    "        channel_images.append(channel_image)\n",
    "    \n",
    "    overlay = np.dstack([channel_images[0]*2, channel_images[1]*0, channel_images[2]*5]).astype(np.uint8)\n",
    "    return overlay\n",
    "    \n",
    "def get_cytoplasm_locations(overlay_image: np.ndarray, cellpose_model: models.Cellpose) -> pd.DataFrame:\n",
    "    \"\"\"finds center X,Y of cytoplasm and saves as tsv file\n",
    "\n",
    "    Args:\n",
    "        overlay_image (np.ndarray): overlay image with nuclei and RNA channels\n",
    "        cellpose_model (models.Cellpose): cellpose model for segmenting nuclei\n",
    "\n",
    "    Returns:\n",
    "        pd.DataFrame: dataframe with cytoplasm center coords\n",
    "    \"\"\"\n",
    "    nuclei_data = []\n",
    "    \n",
    "    #use cellpose to get nuclei outlines\n",
    "    frame_image = overlay_image\n",
    "    masks, flows, styles, diams = cellpose_model.eval(frame_image, diameter=0, channels=[1,3], flow_threshold=0, cellprob_threshold=0.4)\n",
    "    outlines = utils.outlines_list(masks)\n",
    "    \n",
    "    for outline in outlines:\n",
    "        centroid = outline.mean(axis=0)\n",
    "        nucleus_data = {\"Location_Center_X\": centroid[0], \"Location_Center_Y\": centroid[1]}\n",
    "        nuclei_data.append(nucleus_data)\n",
    "        \n",
    "    nuclei_data = pd.DataFrame(nuclei_data)\n",
    "    return nuclei_data\n",
    "\n",
    "def get_nuclei_locations(DNA_image_path: pathlib.Path, cellpose_model: models.Cellpose) -> pd.DataFrame:\n",
    "    \"\"\"finds center X,Y of nuclei and saves as tsv file\n",
    "\n",
    "    Args:\n",
    "        DNA_image_path (pathlib.Path): path to DNA channel image\n",
    "        cellpose_model (models.Cellpose): cellpose model for segmenting nuclei\n",
    "\n",
    "    Returns:\n",
    "        pd.DataFrame: dataframe with nuclei center coords\n",
    "    \"\"\"\n",
    "    nuclei_data = []\n",
    "    \n",
    "    #use cellpose to get nuclei outlines\n",
    "    frame_image = io.imread(DNA_image_path)\n",
    "    masks, flows, styles, diams = cellpose_model.eval(frame_image, diameter=80, channels=[0,0], flow_threshold=0)\n",
    "    outlines = utils.outlines_list(masks)\n",
    "    \n",
    "    for outline in outlines:\n",
    "        centroid = outline.mean(axis=0)\n",
    "        nucleus_data = {\"Location_Center_X\": centroid[0], \"Location_Center_Y\": centroid[1]}\n",
    "        nuclei_data.append(nucleus_data)\n",
    "        \n",
    "    nuclei_data = pd.DataFrame(nuclei_data)\n",
    "    return nuclei_data\n",
    "\n",
    "def segment_cell_health(data_path: pathlib.Path, save_path: pathlib.Path, cellpose_model_DNA: models.Cellpose, cellpose_model_cyto: models.Cellpose):\n",
    "    \"\"\"segments cell health data from data_path and save segmentation data in save_path using cellpose_model\n",
    "\n",
    "    Args:\n",
    "        data_path (pathlib.Path): load path for cell health data\n",
    "        save_path (pathlib.Path): save path for segmentation data\n",
    "        cellpose_model_DNA (models.Cellpose): cell pose model to use for segmenting DNA\n",
    "        cellpose_model_actin (models.Cellpose): cell pose model to use for segmentating actin\n",
    "    \"\"\"\n",
    "    \n",
    "    for plate_path in data_path.iterdir():\n",
    "        print(f\"Segmenting plate {plate_path.name}\")\n",
    "        for image_folder in plate_path.iterdir():\n",
    "            for image_file in image_folder.iterdir():\n",
    "                if \".tiff\" in image_file.name:\n",
    "                    if \"-ch1\" in image_file.name:\n",
    "                        #segment nuclei\n",
    "                        nuc_save_path = str(image_file).replace(\"cell-health\", \"cell-health-segmented\")\n",
    "                        nuc_save_path = nuc_save_path.replace(\".tiff\", \"-segmented.tsv\")\n",
    "                        nuc_save_path = pathlib.Path(nuc_save_path)\n",
    "                        \n",
    "                        if not nuc_save_path.is_file():\n",
    "                            print(f\"Segmenting {nuc_save_path.name}\")\n",
    "                            nuc_save_path.parents[0].mkdir(parents=True, exist_ok=True)\n",
    "                            nuc_locations = get_nuclei_locations(image_file, cellpose_model_DNA)\n",
    "                            nuc_locations.to_csv(nuc_save_path, sep=\"\\t\")\n",
    "                        else:\n",
    "                            print(f\"{nuc_save_path.name} already exists!\")\n",
    "                    \n",
    "                        #segment cytoplasm\n",
    "                        current_image = nuc_save_path.name.split(\"-\")[0]\n",
    "                        cyto_save_path = f\"{nuc_save_path.parents[0]}/{current_image}-cyto-segmented.tsv\"\n",
    "                        cyto_save_path = pathlib.Path(cyto_save_path)\n",
    "                        \n",
    "                        if not cyto_save_path.is_file():\n",
    "                            print(f\"Segmenting {cyto_save_path.name}\")\n",
    "                            overlay_image = overlay_channels(current_image, image_folder)\n",
    "                            cyto_locations = get_cytoplasm_locations(overlay_image, cellpose_model_cyto)\n",
    "                            cyto_locations.to_csv(cyto_save_path, sep=\"\\t\")\n",
    "                        else:\n",
    "                            print(f\"{cyto_save_path.name} already exists!\")\n",
    "\n"
   ]
  },
  {
   "cell_type": "code",
   "execution_count": 85,
   "metadata": {},
   "outputs": [
    {
     "name": "stdout",
     "output_type": "stream",
     "text": [
      "Segmenting plate SQ00014617\n",
      "r07c18f04p01-ch1sk1fk1fl1-segmented.tsv already exists!\n",
      "/media/roshankern/63af2010-c376-459e-a56e-576b170133b6/data/cell-health-segmented/SQ00014617/Images/r07c18f04p01-cyto-segmented.tsv\n",
      "r07c18f04p01-cyto-segmented.tsv already exists!\n"
     ]
    }
   ],
   "source": [
    "data_path = pathlib.Path(\"/media/roshankern/63af2010-c376-459e-a56e-576b170133b6/data/cell-health/\")\n",
    "save_path = pathlib.Path(\"/media/roshankern/63af2010-c376-459e-a56e-576b170133b6/data/cell-health-segmented/\")\n",
    "cellpose_model_DNA = models.Cellpose(gpu=True, model_type='cyto')\n",
    "cellpose_model_cyto = models.Cellpose(gpu=True, model_type='cyto')\n",
    "\n",
    "segment_cell_health(data_path, save_path, cellpose_model_DNA, cellpose_model_cyto)\n"
   ]
  }
 ],
 "metadata": {
  "kernelspec": {
   "display_name": "Python 3.8.13 ('1.segment-data-cell-health')",
   "language": "python",
   "name": "python3"
  },
  "language_info": {
   "codemirror_mode": {
    "name": "ipython",
    "version": 3
   },
   "file_extension": ".py",
   "mimetype": "text/x-python",
   "name": "python",
   "nbconvert_exporter": "python",
   "pygments_lexer": "ipython3",
   "version": "3.8.13"
  },
  "orig_nbformat": 4,
  "vscode": {
   "interpreter": {
    "hash": "07e9f893e05fafa9cc2f8f807a06766daf8178bf7abbc98ff4ede1a2416403f1"
   }
  }
 },
 "nbformat": 4,
 "nbformat_minor": 2
}
