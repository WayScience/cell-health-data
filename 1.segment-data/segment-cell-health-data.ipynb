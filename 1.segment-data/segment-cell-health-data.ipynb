{
 "cells": [
  {
   "cell_type": "markdown",
   "metadata": {},
   "source": [
    "# Cell Health Data Segmentor\n",
    "### Find center coordinates for cells from Cell Health data\n",
    "\n",
    "#### Import libraries"
   ]
  },
  {
   "cell_type": "code",
   "execution_count": 1,
   "metadata": {},
   "outputs": [],
   "source": [
    "# from cellpose.io import logger_setup\n",
    "from cellpose import models, core, io, utils\n",
    "\n",
    "import pathlib\n",
    "import pandas as pd\n",
    "\n",
    "import cv2\n",
    "import numpy as np\n",
    "\n",
    "import importlib\n",
    "chs = importlib.import_module(\"cell-health-segmentation\")"
   ]
  },
  {
   "cell_type": "markdown",
   "metadata": {},
   "source": [
    "### Set Up CellPose"
   ]
  },
  {
   "cell_type": "code",
   "execution_count": 2,
   "metadata": {},
   "outputs": [
    {
     "name": "stdout",
     "output_type": "stream",
     "text": [
      ">>> GPU activated? 1\n"
     ]
    }
   ],
   "source": [
    "use_GPU = core.use_gpu()\n",
    "print(\">>> GPU activated? %d\" % use_GPU)\n",
    "# logger_setup();"
   ]
  },
  {
   "cell_type": "markdown",
   "metadata": {},
   "source": [
    "### Segment Cell Health data"
   ]
  },
  {
   "cell_type": "code",
   "execution_count": 3,
   "metadata": {},
   "outputs": [
    {
     "name": "stdout",
     "output_type": "stream",
     "text": [
      "Segmenting plate SQ00014617\n",
      "r07c18f04p01 has already been segmented!\n",
      "r03c16f02p01 has already been segmented!\n",
      "Segmenting r03c02f04p01-nuc-segmented.tsv\n",
      "Segmenting r03c02f04p01-cyto-segmented.tsv\n",
      "Segmenting r05c04f08p01-nuc-segmented.tsv\n",
      "Segmenting r05c04f08p01-cyto-segmented.tsv\n"
     ]
    },
    {
     "ename": "KeyboardInterrupt",
     "evalue": "",
     "output_type": "error",
     "traceback": [
      "\u001b[0;31m---------------------------------------------------------------------------\u001b[0m",
      "\u001b[0;31mKeyboardInterrupt\u001b[0m                         Traceback (most recent call last)",
      "\u001b[1;32m/home/roshankern/Desktop/Github/cell-health-data/1.segment-data/segment-cell-health-data.ipynb Cell 6\u001b[0m in \u001b[0;36m<cell line: 28>\u001b[0;34m()\u001b[0m\n\u001b[1;32m     <a href='vscode-notebook-cell:/home/roshankern/Desktop/Github/cell-health-data/1.segment-data/segment-cell-health-data.ipynb#ch0000005?line=9'>10</a>\u001b[0m nuclei_model_specs \u001b[39m=\u001b[39m {\n\u001b[1;32m     <a href='vscode-notebook-cell:/home/roshankern/Desktop/Github/cell-health-data/1.segment-data/segment-cell-health-data.ipynb#ch0000005?line=10'>11</a>\u001b[0m     \u001b[39m\"\u001b[39m\u001b[39mmodel_type\u001b[39m\u001b[39m\"\u001b[39m: \u001b[39m\"\u001b[39m\u001b[39mcyto\u001b[39m\u001b[39m\"\u001b[39m,\n\u001b[1;32m     <a href='vscode-notebook-cell:/home/roshankern/Desktop/Github/cell-health-data/1.segment-data/segment-cell-health-data.ipynb#ch0000005?line=11'>12</a>\u001b[0m     \u001b[39m\"\u001b[39m\u001b[39mchannels\u001b[39m\u001b[39m\"\u001b[39m: [\u001b[39m0\u001b[39m, \u001b[39m0\u001b[39m],\n\u001b[0;32m   (...)\u001b[0m\n\u001b[1;32m     <a href='vscode-notebook-cell:/home/roshankern/Desktop/Github/cell-health-data/1.segment-data/segment-cell-health-data.ipynb#ch0000005?line=15'>16</a>\u001b[0m     \u001b[39m\"\u001b[39m\u001b[39mremove_edge_masks\u001b[39m\u001b[39m\"\u001b[39m: \u001b[39mTrue\u001b[39;00m,\n\u001b[1;32m     <a href='vscode-notebook-cell:/home/roshankern/Desktop/Github/cell-health-data/1.segment-data/segment-cell-health-data.ipynb#ch0000005?line=16'>17</a>\u001b[0m }\n\u001b[1;32m     <a href='vscode-notebook-cell:/home/roshankern/Desktop/Github/cell-health-data/1.segment-data/segment-cell-health-data.ipynb#ch0000005?line=18'>19</a>\u001b[0m cytoplasm_model_specs \u001b[39m=\u001b[39m {\n\u001b[1;32m     <a href='vscode-notebook-cell:/home/roshankern/Desktop/Github/cell-health-data/1.segment-data/segment-cell-health-data.ipynb#ch0000005?line=19'>20</a>\u001b[0m     \u001b[39m\"\u001b[39m\u001b[39mmodel_type\u001b[39m\u001b[39m\"\u001b[39m: \u001b[39m\"\u001b[39m\u001b[39mcyto\u001b[39m\u001b[39m\"\u001b[39m,\n\u001b[1;32m     <a href='vscode-notebook-cell:/home/roshankern/Desktop/Github/cell-health-data/1.segment-data/segment-cell-health-data.ipynb#ch0000005?line=20'>21</a>\u001b[0m     \u001b[39m\"\u001b[39m\u001b[39mchannels\u001b[39m\u001b[39m\"\u001b[39m: [\u001b[39m1\u001b[39m, \u001b[39m3\u001b[39m],\n\u001b[0;32m   (...)\u001b[0m\n\u001b[1;32m     <a href='vscode-notebook-cell:/home/roshankern/Desktop/Github/cell-health-data/1.segment-data/segment-cell-health-data.ipynb#ch0000005?line=24'>25</a>\u001b[0m     \u001b[39m\"\u001b[39m\u001b[39mremove_edge_masks\u001b[39m\u001b[39m\"\u001b[39m: \u001b[39mTrue\u001b[39;00m,\n\u001b[1;32m     <a href='vscode-notebook-cell:/home/roshankern/Desktop/Github/cell-health-data/1.segment-data/segment-cell-health-data.ipynb#ch0000005?line=25'>26</a>\u001b[0m }\n\u001b[0;32m---> <a href='vscode-notebook-cell:/home/roshankern/Desktop/Github/cell-health-data/1.segment-data/segment-cell-health-data.ipynb#ch0000005?line=27'>28</a>\u001b[0m cyto \u001b[39m=\u001b[39m chs\u001b[39m.\u001b[39;49msegment_cell_health(load_path, save_path, nuclei_model_specs, cytoplasm_model_specs)\n",
      "File \u001b[0;32m~/Desktop/Github/cell-health-data/1.segment-data/cell-health-segmentation.py:215\u001b[0m, in \u001b[0;36msegment_cell_health\u001b[0;34m(data_path, save_path, nuclei_model_specs, cytoplasm_model_specs)\u001b[0m\n\u001b[1;32m    210\u001b[0m overlay_image \u001b[39m=\u001b[39m overlay_channels(\n\u001b[1;32m    211\u001b[0m     identifier, image_folder\n\u001b[1;32m    212\u001b[0m )\n\u001b[1;32m    213\u001b[0m cyto_outlines \u001b[39m=\u001b[39m get_object_outlines(overlay_image, cytoplasm_model_specs)\n\u001b[0;32m--> 215\u001b[0m nuc_data, cyto_data \u001b[39m=\u001b[39m get_nuc_cyto_data(nuc_locations, cyto_outlines)\n\u001b[1;32m    216\u001b[0m nuc_data\u001b[39m.\u001b[39mto_csv(nuc_save_path, sep\u001b[39m=\u001b[39m\u001b[39m\"\u001b[39m\u001b[39m\\t\u001b[39;00m\u001b[39m\"\u001b[39m, index\u001b[39m=\u001b[39m\u001b[39mFalse\u001b[39;00m)\n\u001b[1;32m    217\u001b[0m cyto_data\u001b[39m.\u001b[39mto_csv(cyto_save_path, sep\u001b[39m=\u001b[39m\u001b[39m\"\u001b[39m\u001b[39m\\t\u001b[39;00m\u001b[39m\"\u001b[39m, index\u001b[39m=\u001b[39m\u001b[39mFalse\u001b[39;00m)\n",
      "File \u001b[0;32m~/Desktop/Github/cell-health-data/1.segment-data/cell-health-segmentation.py:140\u001b[0m, in \u001b[0;36mget_nuc_cyto_data\u001b[0;34m(nuc_locations, cyto_outlines)\u001b[0m\n\u001b[1;32m    138\u001b[0m cytoplasm_path \u001b[39m=\u001b[39m mplPath\u001b[39m.\u001b[39mPath(outline)\n\u001b[1;32m    139\u001b[0m \u001b[39m# check if any of the nuclei are within cytoplasm path\u001b[39;00m\n\u001b[0;32m--> 140\u001b[0m \u001b[39mfor\u001b[39;00m nuc_index, nuc_row \u001b[39min\u001b[39;00m nuc_locations\u001b[39m.\u001b[39miterrows():\n\u001b[1;32m    141\u001b[0m     nuc_center \u001b[39m=\u001b[39m (nuc_row[\u001b[39m\"\u001b[39m\u001b[39mLocation_Center_X\u001b[39m\u001b[39m\"\u001b[39m], nuc_row[\u001b[39m\"\u001b[39m\u001b[39mLocation_Center_Y\u001b[39m\u001b[39m\"\u001b[39m])\n\u001b[1;32m    142\u001b[0m     \u001b[39m# if nuclei is in cytoplasm path give it same cell ID as cytoplasm\u001b[39;00m\n",
      "File \u001b[0;32m~/anaconda3/envs/1.segment-data-cell-health/lib/python3.8/site-packages/pandas/core/frame.py:1324\u001b[0m, in \u001b[0;36mDataFrame.iterrows\u001b[0;34m(self)\u001b[0m\n\u001b[1;32m   1322\u001b[0m klass \u001b[39m=\u001b[39m \u001b[39mself\u001b[39m\u001b[39m.\u001b[39m_constructor_sliced\n\u001b[1;32m   1323\u001b[0m \u001b[39mfor\u001b[39;00m k, v \u001b[39min\u001b[39;00m \u001b[39mzip\u001b[39m(\u001b[39mself\u001b[39m\u001b[39m.\u001b[39mindex, \u001b[39mself\u001b[39m\u001b[39m.\u001b[39mvalues):\n\u001b[0;32m-> 1324\u001b[0m     s \u001b[39m=\u001b[39m klass(v, index\u001b[39m=\u001b[39;49mcolumns, name\u001b[39m=\u001b[39;49mk)\n\u001b[1;32m   1325\u001b[0m     \u001b[39myield\u001b[39;00m k, s\n",
      "File \u001b[0;32m~/anaconda3/envs/1.segment-data-cell-health/lib/python3.8/site-packages/pandas/core/series.py:451\u001b[0m, in \u001b[0;36mSeries.__init__\u001b[0;34m(self, data, index, dtype, name, copy, fastpath)\u001b[0m\n\u001b[1;32m    449\u001b[0m         data \u001b[39m=\u001b[39m data\u001b[39m.\u001b[39mcopy()\n\u001b[1;32m    450\u001b[0m \u001b[39melse\u001b[39;00m:\n\u001b[0;32m--> 451\u001b[0m     data \u001b[39m=\u001b[39m sanitize_array(data, index, dtype, copy)\n\u001b[1;32m    453\u001b[0m     manager \u001b[39m=\u001b[39m get_option(\u001b[39m\"\u001b[39m\u001b[39mmode.data_manager\u001b[39m\u001b[39m\"\u001b[39m)\n\u001b[1;32m    454\u001b[0m     \u001b[39mif\u001b[39;00m manager \u001b[39m==\u001b[39m \u001b[39m\"\u001b[39m\u001b[39mblock\u001b[39m\u001b[39m\"\u001b[39m:\n",
      "File \u001b[0;32m~/anaconda3/envs/1.segment-data-cell-health/lib/python3.8/site-packages/pandas/core/construction.py:470\u001b[0m, in \u001b[0;36msanitize_array\u001b[0;34m(data, index, dtype, copy, raise_cast_failure, allow_2d)\u001b[0m\n\u001b[1;32m    466\u001b[0m         data \u001b[39m=\u001b[39m data\u001b[39m.\u001b[39mcopy()\n\u001b[1;32m    467\u001b[0m     \u001b[39mreturn\u001b[39;00m data\n\u001b[0;32m--> 470\u001b[0m \u001b[39mdef\u001b[39;00m \u001b[39msanitize_array\u001b[39m(\n\u001b[1;32m    471\u001b[0m     data,\n\u001b[1;32m    472\u001b[0m     index: Index \u001b[39m|\u001b[39m \u001b[39mNone\u001b[39;00m,\n\u001b[1;32m    473\u001b[0m     dtype: DtypeObj \u001b[39m|\u001b[39m \u001b[39mNone\u001b[39;00m \u001b[39m=\u001b[39m \u001b[39mNone\u001b[39;00m,\n\u001b[1;32m    474\u001b[0m     copy: \u001b[39mbool\u001b[39m \u001b[39m=\u001b[39m \u001b[39mFalse\u001b[39;00m,\n\u001b[1;32m    475\u001b[0m     raise_cast_failure: \u001b[39mbool\u001b[39m \u001b[39m=\u001b[39m \u001b[39mTrue\u001b[39;00m,\n\u001b[1;32m    476\u001b[0m     \u001b[39m*\u001b[39m,\n\u001b[1;32m    477\u001b[0m     allow_2d: \u001b[39mbool\u001b[39m \u001b[39m=\u001b[39m \u001b[39mFalse\u001b[39;00m,\n\u001b[1;32m    478\u001b[0m ) \u001b[39m-\u001b[39m\u001b[39m>\u001b[39m ArrayLike:\n\u001b[1;32m    479\u001b[0m     \u001b[39m\"\"\"\u001b[39;00m\n\u001b[1;32m    480\u001b[0m \u001b[39m    Sanitize input data to an ndarray or ExtensionArray, copy if specified,\u001b[39;00m\n\u001b[1;32m    481\u001b[0m \u001b[39m    coerce to the dtype if specified.\u001b[39;00m\n\u001b[0;32m   (...)\u001b[0m\n\u001b[1;32m    501\u001b[0m \u001b[39m    applying to a subset of columns, see GH#24435.\u001b[39;00m\n\u001b[1;32m    502\u001b[0m \u001b[39m    \"\"\"\u001b[39;00m\n\u001b[1;32m    503\u001b[0m     \u001b[39mif\u001b[39;00m \u001b[39misinstance\u001b[39m(data, ma\u001b[39m.\u001b[39mMaskedArray):\n",
      "\u001b[0;31mKeyboardInterrupt\u001b[0m: "
     ]
    }
   ],
   "source": [
    "# data_path needs to reflect the location of illumination corrected images after finishing 0.image-download\n",
    "load_path = pathlib.Path(\n",
    "    \"/media/roshankern/63af2010-c376-459e-a56e-576b170133b6/data/cell-health/\"\n",
    ")\n",
    "# save_path needs to reflect the desired location of the segmentation tsv files\n",
    "save_path = pathlib.Path(\n",
    "    \"/media/roshankern/63af2010-c376-459e-a56e-576b170133b6/data/cell-health-segmented/\"\n",
    ")\n",
    "\n",
    "nuclei_model_specs = {\n",
    "    \"model_type\": \"cyto\",\n",
    "    \"channels\": [0, 0],\n",
    "    \"diameter\": 80,\n",
    "    \"flow_threshold\": 0,\n",
    "    \"cellprob_threshold\": 0,\n",
    "    \"remove_edge_masks\": True,\n",
    "}\n",
    "\n",
    "cytoplasm_model_specs = {\n",
    "    \"model_type\": \"cyto\",\n",
    "    \"channels\": [1, 3],\n",
    "    \"diameter\": 0,\n",
    "    \"flow_threshold\": 0,\n",
    "    \"cellprob_threshold\": 0.4,\n",
    "    \"remove_edge_masks\": True,\n",
    "}\n",
    "\n",
    "cyto = chs.segment_cell_health(load_path, save_path, nuclei_model_specs, cytoplasm_model_specs)"
   ]
  }
 ],
 "metadata": {
  "kernelspec": {
   "display_name": "Python 3.8.13 ('1.segment-data-cell-health')",
   "language": "python",
   "name": "python3"
  },
  "language_info": {
   "codemirror_mode": {
    "name": "ipython",
    "version": 3
   },
   "file_extension": ".py",
   "mimetype": "text/x-python",
   "name": "python",
   "nbconvert_exporter": "python",
   "pygments_lexer": "ipython3",
   "version": "3.8.13"
  },
  "orig_nbformat": 4,
  "vscode": {
   "interpreter": {
    "hash": "07e9f893e05fafa9cc2f8f807a06766daf8178bf7abbc98ff4ede1a2416403f1"
   }
  }
 },
 "nbformat": 4,
 "nbformat_minor": 2
}
